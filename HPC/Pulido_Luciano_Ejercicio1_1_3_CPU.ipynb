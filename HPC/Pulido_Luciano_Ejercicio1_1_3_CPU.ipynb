{
  "nbformat": 4,
  "nbformat_minor": 0,
  "metadata": {
    "colab": {
      "name": "Pulido_Luciano_Ejercicio1_1_3_CPU.ipynb",
      "provenance": [],
      "collapsed_sections": []
    },
    "kernelspec": {
      "name": "python3",
      "display_name": "Python 3"
    }
  },
  "cells": [
    {
      "cell_type": "markdown",
      "metadata": {
        "id": "x_jsvZKzy6Nd"
      },
      "source": [
        "#1 Introducción"
      ]
    },
    {
      "cell_type": "markdown",
      "metadata": {
        "id": "FCHlW7fuy9-o"
      },
      "source": [
        "\n",
        "En el siguiente cuaderno se realiza el algoritmo que obtiene la matriz transpuesta de una matriz (su orden se ingresa por parametro) de números flotantes de manera secuencial utilizando el procesador CPU.\n",
        "\n",
        "El algoritmo de este cuadernos se basa en, valga la redundancia, del algortimo para transponer una matriz proveniente del algebra lineal[3]\n",
        "\n",
        "El objetivo es comparar los tiempos de ejecución de ambas versiones del algoritmo que obtiene la matriz transpuesta, utilizando el lenguaje python [2] en la plataforma colab [1]"
      ]
    },
    {
      "cell_type": "markdown",
      "metadata": {
        "id": "m3NjPSOay-9f"
      },
      "source": [
        "#2 Armado del ambiente"
      ]
    },
    {
      "cell_type": "markdown",
      "metadata": {
        "id": "VIkxa4jRy_j8"
      },
      "source": [
        "No son necesarios, ejecuciones previas del armado del ambiente."
      ]
    },
    {
      "cell_type": "markdown",
      "metadata": {
        "id": "cZsa5LU3zO-i"
      },
      "source": [
        "#3 Desarrollo "
      ]
    },
    {
      "cell_type": "code",
      "metadata": {
        "id": "C_fNk63rzRXl",
        "colab": {
          "base_uri": "https://localhost:8080/"
        },
        "outputId": "f2f575c0-0efe-4bd9-cb74-ec82629e2baf"
      },
      "source": [
        "#@title Parametros: { vertical-output: true, display-mode: \"both\" }\n",
        "ordenMatriz =  5#@param {type:\"number\"}\n",
        "\n",
        "from datetime import datetime\n",
        "tiempo_total = datetime.now()\n",
        "\n",
        "import numpy\n",
        "\n",
        "# Definición de función que transforma el tiempo en  milisegundos \n",
        "tiempo_en_ms = lambda dt:(dt.days * 24 * 60 * 60 + dt.seconds) * 1000 + dt.microseconds / 1000.0\n",
        "\n",
        "# CPU - Defino la memoria de las matrices en cpu.\n",
        "\n",
        "try:\n",
        "  matriz = numpy.random.random((ordenMatriz,ordenMatriz))\n",
        "  matriz = matriz.astype(numpy.float32())\n",
        "  matrizT = numpy.empty_like(matriz)\n",
        "\n",
        "  tiempo_bucle = datetime.now()\n",
        "\n",
        "  for i in range(0,ordenMatriz):\n",
        "    for j in range(0,ordenMatriz):\n",
        "      matrizT[j][i] = matriz[i][j]\n",
        "\n",
        "  tiempo_bucle = datetime.now() - tiempo_bucle\n",
        "  tiempo_total = datetime.now() - tiempo_total\n",
        "  \n",
        "  print(\"Matriz original: \")\n",
        "  print(matriz)\n",
        "  print(\"\")\n",
        "  print(\"Matriz transpuesta: \")\n",
        "  print(matrizT)\n",
        "  print(\"\")\n",
        "  print(\"Tiempo Total: \", tiempo_en_ms( tiempo_total ), \"[ms]\" )\n",
        "  print(\"Tiempo bucle: \", tiempo_en_ms( tiempo_bucle ), \"[ms]\" )\n",
        "\n",
        "except ValueError:\n",
        "  print(\"se ingreso un orden (tamaño de la matriz) menor a 0\")\n",
        "  print(\"ingrese un orden mayor a 0\")\n"
      ],
      "execution_count": null,
      "outputs": [
        {
          "output_type": "stream",
          "text": [
            "Matriz original: \n",
            "[[0.60751855 0.08994103 0.53095305 0.5923071  0.44280097]\n",
            " [0.02026618 0.20784345 0.78383785 0.95131385 0.9146255 ]\n",
            " [0.47539505 0.6447987  0.68640614 0.9715737  0.70004684]\n",
            " [0.3987849  0.4300021  0.9473704  0.7168067  0.22456126]\n",
            " [0.7636829  0.34643552 0.54124856 0.09217121 0.44175905]]\n",
            "\n",
            "Matriz transpuesta: \n",
            "[[0.60751855 0.02026618 0.47539505 0.3987849  0.7636829 ]\n",
            " [0.08994103 0.20784345 0.6447987  0.4300021  0.34643552]\n",
            " [0.53095305 0.78383785 0.68640614 0.9473704  0.54124856]\n",
            " [0.5923071  0.95131385 0.9715737  0.7168067  0.09217121]\n",
            " [0.44280097 0.9146255  0.70004684 0.22456126 0.44175905]]\n",
            "\n",
            "Tiempo Total:  0.289 [ms]\n"
          ],
          "name": "stdout"
        }
      ]
    },
    {
      "cell_type": "markdown",
      "metadata": {
        "id": "OLQ1dWFAzSD7"
      },
      "source": [
        "#4 Tabla de pasos de ejecución del programa"
      ]
    },
    {
      "cell_type": "markdown",
      "metadata": {
        "id": "JHdT3fB_zVya"
      },
      "source": [
        " Procesador | Funciòn | Detalle\n",
        "------------|---------|----------\n",
        "CPU      |  @param                | Lectura del tamaño de la matriz desde colab.\n",
        "CPU      |  import                | Importa los módulos para funcionar.\n",
        "CPU      |  datetime.now()        | Toma el tiempo actual.\n",
        "CPU      |  numpy.random.randn( ordenMatriz ) | Inicializa las matrices\n",
        "CPU      | datetime.now()         | toma el tiempo del bucle\n",
        "CPU      |  for                   | transpongo la matriz \n",
        "CPU      |  print()               | Informo los resultados."
      ]
    },
    {
      "cell_type": "markdown",
      "metadata": {
        "id": "r9gLYdlnzn8h"
      },
      "source": [
        "#5 Conclusiones"
      ]
    },
    {
      "cell_type": "markdown",
      "metadata": {
        "id": "dSyyD81wztYL"
      },
      "source": [
        "En este ejercicio que se basa en el algortimo que obtiene la matriz transpuesta de una matriz, los tiempos de ejecución resultaron más eficientes utilizando paralelismo utilizando el GPGPU porque al ser un algoritmo donde se puede mover grandes cantidades de datos ya que los tiempos de ejecución  son pequeños en comparación con la versión secuencial porque evitamos cualquier tipo de bucles, por la enorme cantidad de hilos que nos ofrece la GPU que nos permiten evitar estos bucles ya que podemos acceder de manera directa a los datos correspondientes.\n",
        "\n",
        "Para poder sacar estas conclusiones tome 20 muestras del algoritmo en la version secuencial (CPU) y la versión con paralelismo (CPU-GPU) con un número de elementos igual a 100 y obtuve los siguientes promedios:\n",
        "\n",
        "Promedio de tiempo ejercicio 2 secuencial: 12.224,4 ms\n",
        "\n",
        "Promedio de tiempo de Bucle ejercicio 2: 11.497,4 ms\n",
        "\n",
        "Promedio de tiempo CPU ejercicio 2 paralelismo: 2.407 ms \n",
        "\n",
        "Promedio de tiempo GPU ejercicio 2 paralelismo: 0,2676 ms\n",
        "\n",
        "\n",
        "Como vemos en los resultados obtenidos, el tiempo total(CPU) en la versión con paralelismo (GPGPU) es menor al tiempo equivalente que es el tiempo de CPU, en la versión secuencial.\n",
        "\n",
        "Por este motivo puedo decir que en los ejercicios donde tenemos que mover grandes cantidades de datos, utilizar paralelismo con (GPGPU) es más optimo porque como mencione anteriormente nos permite acceder de manera directa a los datos correspondientes y nos permite evitar el uso de bucles permitiendonos de esta manera ahorrar mucho tiempo de ejecución.\n",
        "\n",
        "Para continuar este ejercicio tanto en la versión secuencial como en la versión con paralelismo se podría hacer que hagamos 2 movimientos de datos al mismo tiempo y ahorrar la mitad del tiempo, es decir, por ejemplo cuando se va a copiar un valor de la matriz de la posicion [ i ][ j ] a la posición [ j ][ i ],antes de hacer esto, se podria copiar el valor de la posicion [ j ][ i ] en una variable auxiliar y copiar el valor en la posicion [ i ][ j ] luego de que el valor de esta posición haya sido copiado en la posición [ j ][ i ], para poder asi, reducir el tiempo de ejecución a la mitad."
      ]
    },
    {
      "cell_type": "markdown",
      "metadata": {
        "id": "HtsUCINBzqU4"
      },
      "source": [
        "#6 Bibliografia"
      ]
    },
    {
      "cell_type": "markdown",
      "metadata": {
        "id": "jTL8I2Fnztv0"
      },
      "source": [
        "[1] MARKDOWN SYNTAX Colab:[PDF](https://github.com/wvaliente/SOA_HPC/blob/main/Documentos/markdown-cheatsheet-online.pdf)\n",
        "\n",
        "[2] Introducción a Python: [pagina colab](https://github.com/wvaliente/SOA_HPC/blob/main/Documentos/Python_Basico.ipynb)\n",
        "\n",
        "[3] Función de transponer matriz: [WEB](https://es.wikipedia.org/wiki/Matriz_transpuesta)"
      ]
    }
  ]
}