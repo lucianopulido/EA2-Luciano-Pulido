{
  "nbformat": 4,
  "nbformat_minor": 0,
  "metadata": {
    "colab": {
      "name": "Pulido_Luciano_Ejercicio1_1_3_CPU.ipynb",
      "provenance": [],
      "collapsed_sections": []
    },
    "kernelspec": {
      "name": "python3",
      "display_name": "Python 3"
    }
  },
  "cells": [
    {
      "cell_type": "markdown",
      "metadata": {
        "id": "x_jsvZKzy6Nd"
      },
      "source": [
        "#1 Introducción"
      ]
    },
    {
      "cell_type": "markdown",
      "metadata": {
        "id": "FCHlW7fuy9-o"
      },
      "source": [
        "\n",
        "En el siguiente cuaderno obtenemos la matriz transpuesta de una matriz de números flotantes de manera secuencial utilizando solo procesador CPU.\n",
        "\n",
        "El objetivo es comparar los tiempos de ejecución de ambas versiones (secuencial vs paralelismo) del algoritmo que obtiene la matriz transpuesta."
      ]
    },
    {
      "cell_type": "markdown",
      "metadata": {
        "id": "m3NjPSOay-9f"
      },
      "source": [
        "#2 Armado del ambiente"
      ]
    },
    {
      "cell_type": "markdown",
      "metadata": {
        "id": "VIkxa4jRy_j8"
      },
      "source": [
        "No son necesarios, ejecuciones previas del armado del ambiente."
      ]
    },
    {
      "cell_type": "markdown",
      "metadata": {
        "id": "cZsa5LU3zO-i"
      },
      "source": [
        "#3 Desarrollo "
      ]
    },
    {
      "cell_type": "code",
      "metadata": {
        "id": "C_fNk63rzRXl",
        "colab": {
          "base_uri": "https://localhost:8080/"
        },
        "outputId": "06c93755-96d9-43c5-d125-1de00feff97c"
      },
      "source": [
        "#@title Parametros: { vertical-output: true, display-mode: \"both\" }\n",
        "ordenMatriz =  -1#@param {type:\"number\"}\n",
        "import numpy\n",
        "\n",
        "# CPU - Defino la memoria de las matrices en cpu.\n",
        "\n",
        "try:\n",
        "  matriz = numpy.random.random((ordenMatriz,ordenMatriz))\n",
        "  matriz = matriz.astype(numpy.float32())\n",
        "  matrizT = numpy.empty_like(matriz)\n",
        "\n",
        "\n",
        "  for i in range(0,ordenMatriz):\n",
        "    for j in range(0,ordenMatriz):\n",
        "      matrizT[j][i] = matriz[i][j]\n",
        "\n",
        "  print(\"Matriz original: \")\n",
        "  print(matriz)\n",
        "  print(\"\")\n",
        "  print(\"Matriz transpuesta: \")\n",
        "  print(matrizT)\n",
        "\n",
        "except ValueError:\n",
        "  print(\"se ingreso un orden (tamaño de la matriz) menor a 0\")\n",
        "  print(\"ingrese un orden mayor a 0\")\n"
      ],
      "execution_count": 7,
      "outputs": [
        {
          "output_type": "stream",
          "text": [
            "se ingreso un orden (tamaño de la matriz) menor a 0\n",
            "ingrese un orden mayor a 0\n"
          ],
          "name": "stdout"
        }
      ]
    },
    {
      "cell_type": "markdown",
      "metadata": {
        "id": "OLQ1dWFAzSD7"
      },
      "source": [
        "#4 Tabla de pasos de ejecución del programa"
      ]
    },
    {
      "cell_type": "markdown",
      "metadata": {
        "id": "JHdT3fB_zVya"
      },
      "source": [
        " Procesador | Funciòn | Detalle\n",
        "------------|---------|----------\n",
        "CPU      |  @param                | Lectura del tamaño de la matriz desde colab.\n",
        "CPU      |  import                | Importa los módulos para funcionar.\n",
        "CPU      |  datetime.now()        | Toma el tiempo actual.\n",
        "CPU      |  numpy.random.randn( ordenMatriz ) | Inicializa las matrices\n",
        "CPU      |  for                   | transpongo la matriz \n",
        "CPU      |  print()               | Informo los resultados."
      ]
    },
    {
      "cell_type": "markdown",
      "metadata": {
        "id": "r9gLYdlnzn8h"
      },
      "source": [
        "#5 Conclusiones"
      ]
    },
    {
      "cell_type": "markdown",
      "metadata": {
        "id": "dSyyD81wztYL"
      },
      "source": [
        ""
      ]
    },
    {
      "cell_type": "markdown",
      "metadata": {
        "id": "HtsUCINBzqU4"
      },
      "source": [
        "#6 Bibliografia"
      ]
    },
    {
      "cell_type": "markdown",
      "metadata": {
        "id": "jTL8I2Fnztv0"
      },
      "source": [
        "[1] MARKDOWN SYNTAX Colab:[PDF](https://github.com/wvaliente/SOA_HPC/blob/main/Documentos/markdown-cheatsheet-online.pdf)\n",
        "\n",
        "[2] Introducción a Python: [pagina colab](https://github.com/wvaliente/SOA_HPC/blob/main/Documentos/Python_Basico.ipynb)"
      ]
    }
  ]
}