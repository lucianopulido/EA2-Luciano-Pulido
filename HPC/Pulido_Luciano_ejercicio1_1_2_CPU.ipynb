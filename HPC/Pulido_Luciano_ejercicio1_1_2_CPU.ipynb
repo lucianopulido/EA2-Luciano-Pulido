{
  "nbformat": 4,
  "nbformat_minor": 0,
  "metadata": {
    "colab": {
      "name": "Pulido_Luciano_ejercicio1_1_2_CPU.ipynb",
      "provenance": [],
      "collapsed_sections": []
    },
    "kernelspec": {
      "name": "python3",
      "display_name": "Python 3"
    }
  },
  "cells": [
    {
      "cell_type": "markdown",
      "metadata": {
        "id": "zKX7GvL9j9mD"
      },
      "source": [
        "#1 Introducción"
      ]
    },
    {
      "cell_type": "markdown",
      "metadata": {
        "id": "98sXQwESkGcl"
      },
      "source": [
        "El siguiente cuaderno realiza la búsqueda secuencial [3] utilizando el procesador CPU de un número entero ingresado por teclado en un vector de números enteros y se informa si se lo encontro o no. El algoritmo de este cuadernos se basa en, valga la redundancia, el ya conocido algoritmo de búsqueda secuencial o lineal [3]\n",
        "\n",
        "El objetivo es comparar los tiempos de ejecución de ambas versiones del algoritmo de busqueda, utilizando el lenguaje python [2] en la plataforma colab [1]."
      ]
    },
    {
      "cell_type": "markdown",
      "metadata": {
        "id": "mt9-iCxGkHzT"
      },
      "source": [
        "#2 Armado del ambiente"
      ]
    },
    {
      "cell_type": "markdown",
      "metadata": {
        "id": "5xx33348kQZJ"
      },
      "source": [
        "No son necesarios, ejecuciones previas del armado del ambiente.\n"
      ]
    },
    {
      "cell_type": "markdown",
      "metadata": {
        "id": "uqabyBOSkSfH"
      },
      "source": [
        "#3 Desarrollo"
      ]
    },
    {
      "cell_type": "code",
      "metadata": {
        "id": "2bSmA1nbj6pu",
        "colab": {
          "base_uri": "https://localhost:8080/"
        },
        "outputId": "7fcc72e4-b8b1-4ae5-fd84-18951de0f258"
      },
      "source": [
        "#@title Parámetros: { vertical-output: true, display-mode: \"both\" }\n",
        "numeroElementos =   100#@param {type:\"number\"}\n",
        "\n",
        "from datetime import datetime\n",
        "import numpy\n",
        "\n",
        "tiempoTotal = datetime.now()\n",
        "\n",
        "# Definición de función que transforma el tiempo en  milisegundos\n",
        "tiempo_en_ms = lambda dt:(dt.days * 24 * 60 * 60 + dt.seconds) * 1000 + dt.microseconds / 1000.0\n",
        "\n",
        "try:\n",
        "  numeroEncontrado = 0\n",
        "  vectorCpu = numpy.random.randn(numeroElementos)\n",
        "  vectorCpu = vectorCpu.astype(numpy.int32())\n",
        "\n",
        "  print(\"vector con numeros:\")\n",
        "  print(vectorCpu)\n",
        "\n",
        "  print(\"Ingrese un numero a buscar:\")\n",
        "  numeroBuscado = input()\n",
        "\n",
        "  tiempo_bucle = datetime.now()\n",
        "\n",
        "  # CPU - Realizo la busqueda secuencial.\n",
        "  for i in range(0,numeroElementos):\n",
        "    if vectorCpu[i] == float(numeroBuscado):\n",
        "      numeroEncontrado=1\n",
        "\n",
        "  tiempo_bucle = datetime.now() - tiempo_bucle\n",
        "\n",
        " # CPU - Informo el resultado.\n",
        "  if numeroEncontrado == 1:\n",
        "    print(\"El numero ha sido encontrado\")\n",
        "  else:\n",
        "      print(\"El numero no ha sido encontrado\")\n",
        "\n",
        " \n",
        "  tiempoTotal = datetime.now() - tiempoTotal\n",
        "  print(\"\")\n",
        "  print(\"Tiempo Total: \",tiempo_en_ms(tiempoTotal),\"[ms]\")\n",
        "  print(\"Tiempo bucle: \", tiempo_en_ms( tiempo_bucle ), \"[ms]\" )\n",
        "\n",
        "except ValueError as e:\n",
        "  print(\"se ingreso un tamaño de vector menor  0\")\n",
        "  print(\"ingrese un tamaño de vector mayor o igual 0\")\n",
        " \n"
      ],
      "execution_count": 11,
      "outputs": [
        {
          "output_type": "stream",
          "text": [
            "vector con numeros:\n",
            "[ 1  0  0  0  0  0  0  0  1  0  0 -1  0  0 -1  2  0  0  0  0  0  0  0  0\n",
            "  1  0  0  0  0  0  0 -1  0  0  0 -1  0  0  0  0  0  0 -1  0  0  0  0  0\n",
            "  0  0 -1  0  0 -1 -1  0  1  0  0 -2  0  0  0  0  1 -1  0  0  0  0  0  0\n",
            "  0  0 -1  0  0  1  0  1 -1 -1 -1  0 -1  0 -2 -2  0  1 -1 -1  1  1 -1  0\n",
            "  0  0  0  2]\n",
            "Ingrese un numero a buscar:\n",
            "0.5\n",
            "El numero no ha sido encontrado\n",
            "\n",
            "Tiempo Total:  4786.862 [ms]\n",
            "Tiempo bucle:  0.375 [ms]\n"
          ],
          "name": "stdout"
        }
      ]
    },
    {
      "cell_type": "markdown",
      "metadata": {
        "id": "R3ybCoH1kXuQ"
      },
      "source": [
        "#4 Tabla de pasos"
      ]
    },
    {
      "cell_type": "markdown",
      "metadata": {
        "id": "Q-1_xEkUeSTI"
      },
      "source": [
        "Tabla de pasos de la ejecución del programa:"
      ]
    },
    {
      "cell_type": "markdown",
      "metadata": {
        "id": "e49KhuGgkhbf"
      },
      "source": [
        "\n",
        "\n",
        " Procesador | Funciòn | Detalle\n",
        "------------|---------|----------\n",
        "CPU      |  @param                | Lectura del tamaño del vector desde Colab.\n",
        "CPU      |  import                | Importa los módulos para funcionar.\n",
        "CPU      |  datetime.now()        | Toma el tiempo actual.\n",
        "CPU      |  numeroEncontrado=0    | inicializo variable para usarla como bandera para saber si encontra el elemento buscado\n",
        "CPU      |  numpy.random.randn( numeroElementos ) | Inicializa el vectorCpu.\n",
        "CPU      | for                    | realizo la buqueda del número buscado en el vectorCPU\n",
        "CPU      | if                     | si encuentro el número buscado en el vectorCpu,pongo la variable numeroEncontrado=1 para saber que lo encontre\n",
        "CPU      | if                     | si numeroEncontrado es igual a 1,significa que encontre el numero, si es 0 no lo encontre\n",
        "CPU      |  print()               | Informo si encontre o no el elemento buscado.\n",
        "CPU      | print()                | Informo los tiempos de ejecución\n",
        "\n"
      ]
    },
    {
      "cell_type": "markdown",
      "metadata": {
        "id": "Jsv-oNcekiAc"
      },
      "source": [
        "#5 Conclusiones"
      ]
    },
    {
      "cell_type": "markdown",
      "metadata": {
        "id": "mxYRDL0ekl_x"
      },
      "source": [
        "En este ejercicio que se basa en el algortimo de una búsqueda secuencial, donde se busca un número ingresado por teclado dentro de un vector de números enteros y se informa si se lo encontro o no, los tiempos de ejecución resultaron más eficientes utilizando solamente la CPU  de manera secuencial porque al ser un algoritmo donde se va comparando todo el tiempo el numero buscado con cada posición del vector tanto en la version secuencial(CPU) como en la versión con paralelismo (CPU-GPU), el costo termina siendo mayor en la version que se utiliza paralelismo con la GPU  por las capas intermedias por las que deben pasar los datos desde que se envian desde la CPU a la GPU hasta que vuelven de la GPU a la CPU,le suman un tiempo mayor al propio dado por la busqueda.\n",
        "\n",
        "Para poder sacar estas conclusiones tome 20 muestras del algoritmo en la version secuencial (CPU) y la versión con paralelismo (CPU-GPU) con un número de elementos igual a 100 y obtuve los siguientes promedios:\n",
        "\n",
        "Promedio de tiempo total ejercicio 1 secuencial: 3.239,6 ms\n",
        "\n",
        "Promedio de tiempo de Bucle ejercicio 1  secuencial: 0,2534 ms \n",
        "\n",
        "Promedio de tiempo CPU ejercicio 1 paralelismo: 4.665,4 ms\n",
        "\n",
        "Promedio de tiempo GPU ejercicio 1 paralelismo: 506,9 ms\n",
        "\n",
        "Como vemos en los resultados obtenidos, el tiempo total(CPU) en la versión secuencial es menor al tiempo equivalente que es el tiempo de CPU, en la versión con paralelismo.\n",
        "\n",
        "Por este motivo puedo decir que en los ejercicios donde exista la misma cantidad de comparaciones de datos tanto en la versíon secuencial como en la de paralelismo el tiempo va a ser mayor en la de paralelismo por lo antes mensionado sobre las capas por las que pasan los datos hasta llegar a la GPU y y volver a la CPU.\n",
        "\n",
        "Para continuar este ejercicio tanto en la versión secuencial como en la versión con paralelismo se podría hacer que una vez que se encuentre el número buscado, en el caso de la versión secuencial, salga del bucle inmediatamente y en la versión con paralelismo los hilos dejen de comparar.\n",
        "\n"
      ]
    },
    {
      "cell_type": "markdown",
      "metadata": {
        "id": "yb3TKcl4kpZs"
      },
      "source": [
        "#6 Bibliografia"
      ]
    },
    {
      "cell_type": "markdown",
      "metadata": {
        "id": "eSJdU3ZIksYp"
      },
      "source": [
        "[1] MARKDOWN SYNTAX Colab: [PDF](https://github.com/wvaliente/SOA_HPC/blob/main/Documentos/markdown-cheatsheet-online.pdf)\n",
        "\n",
        "[2] Introducción a Python: [pagina colab](https://github.com/wvaliente/SOA_HPC/blob/main/Documentos/Python_Basico.ipynb)\n",
        "\n",
        "[3] Funcion de busqueda secuencial: [referencia](https://es.wikipedia.org/wiki/Algoritmo_de_b%C3%BAsqueda)"
      ]
    }
  ]
}