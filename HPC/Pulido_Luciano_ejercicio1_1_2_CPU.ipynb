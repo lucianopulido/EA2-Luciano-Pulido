{
  "nbformat": 4,
  "nbformat_minor": 0,
  "metadata": {
    "colab": {
      "name": "Pulido_Luciano_ejercicio1_1_2_CPU.ipynb",
      "provenance": [],
      "collapsed_sections": []
    },
    "kernelspec": {
      "name": "python3",
      "display_name": "Python 3"
    }
  },
  "cells": [
    {
      "cell_type": "markdown",
      "metadata": {
        "id": "zKX7GvL9j9mD"
      },
      "source": [
        "#1 Introducción"
      ]
    },
    {
      "cell_type": "markdown",
      "metadata": {
        "id": "98sXQwESkGcl"
      },
      "source": [
        "El siguiente cuaderno realiza la busqueda de un número entero de manera secuencial utilizando solo procesador CPU. \n",
        "\n",
        "El objetivo es comparar los tiempos de ejecución de ambas versiones del algoritmo de busqueda."
      ]
    },
    {
      "cell_type": "markdown",
      "metadata": {
        "id": "mt9-iCxGkHzT"
      },
      "source": [
        "#2 Armado del ambiente"
      ]
    },
    {
      "cell_type": "markdown",
      "metadata": {
        "id": "5xx33348kQZJ"
      },
      "source": [
        "No son necesarios, ejecuciones previas del armado del ambiente.\n"
      ]
    },
    {
      "cell_type": "markdown",
      "metadata": {
        "id": "uqabyBOSkSfH"
      },
      "source": [
        "#3 Desarrollo"
      ]
    },
    {
      "cell_type": "code",
      "metadata": {
        "id": "2bSmA1nbj6pu",
        "colab": {
          "base_uri": "https://localhost:8080/"
        },
        "outputId": "269f4e31-40ff-4b3d-ab89-3e0e3da1f11a"
      },
      "source": [
        "#@title Parámetros: { vertical-output: true, display-mode: \"both\" }\n",
        "numeroElementos =   1#@param {type:\"number\"}\n",
        "\n",
        "from datetime import datetime\n",
        "import numpy\n",
        "\n",
        "tiempoTotal = datetime.now()\n",
        "\n",
        "tiempo_en_ms = lambda dt:(dt.days * 24 * 60 * 60 + dt.seconds) * 1000 + dt.microseconds / 1000.0\n",
        "\n",
        "try:\n",
        "  numeroEncontrado = 0\n",
        "  vectorCpu = numpy.random.randn(numeroElementos)\n",
        "  vectorCpu = vectorCpu.astype(numpy.int32())\n",
        "\n",
        "  print(\"vector con numeros:\")\n",
        "  print(vectorCpu)\n",
        "\n",
        "  print(\"Ingrese un numero a buscar:\")\n",
        "  numeroBuscado = input()\n",
        "\n",
        "\n",
        "  for i in range(0,numeroElementos):\n",
        "    if vectorCpu[i] == int(numeroBuscado):\n",
        "      numeroEncontrado=1\n",
        "\n",
        "  if numeroEncontrado == 1:\n",
        "    print(\"El numero ha sido encontrado\")\n",
        "  else:\n",
        "      print(\"El numero no ha sido encontrado\")\n",
        "\n",
        "  tiempoTotal = datetime.now() - tiempoTotal\n",
        "  print(\"\")\n",
        "  print(\"Tiempo Total: \",tiempo_en_ms(tiempoTotal),\"[ms]\")\n",
        "\n",
        "except ValueError:\n",
        "  print(\"se ingreso un tamaño de vector menor  0\")\n",
        "  print(\"ingrese un tamaño de vector mayor o igual 0\")\n"
      ],
      "execution_count": null,
      "outputs": [
        {
          "output_type": "stream",
          "text": [
            "vector con numeros:\n",
            "[ 0  1 -1  0  0  0 -1  0  0  0  0  0  1  0 -1  1  0  0  0  0  0 -1  1  0\n",
            "  1  1  0  1  0  0  0  0  0 -1 -1  0  2  1  2  0  1 -1 -1  0  0 -2  0  0\n",
            "  0  0 -1  0  0  0  1  0  0  0  1  0  1  0  0  0  2  0  1  0  1  0  1  0\n",
            "  0  0  0  2  0  0  0  2  0 -1  0  0  0  0  0 -1 -2  0  0  0  0 -1 -2  1\n",
            "  0 -1  0  1  0  0  0 -1  0  0  1  0 -1  0  1  0 -1  0  0 -1  0 -1  0  0\n",
            "  0  0  0  0 -1  1  0 -1  1  0  0  0  0 -1  0  0 -1  0  0 -2  0  0 -1  0\n",
            " -1  0  0  0  0  0  0  0  0  0  2 -1  0  0  0  0  0  0  1 -1  0  0  0  0\n",
            "  1  0  0  0 -1  1  0  0  1  0  0 -1  0  0  0  0  0  0  0  0  0  0  1  0\n",
            "  0  0  0  0  0  0  0  0  0 -1  0  0  1  1  0 -1  0  0  0 -1 -1  0 -1  0\n",
            "  0  0 -2  0  2  0 -1  2  0  0  0  0  0  0  0  0  0 -1  0  0  0  0  0  1\n",
            "  0  0  0  0  0 -1  0  0 -1  0  0  1  0  0  0  1  0 -1  0 -2  0  0  0  1\n",
            "  1  0  0 -1  1  0  0  1  0  0  0  0  0 -1 -1  1 -1  0 -1  1  0  0  0  0\n",
            "  0  0  0  0  0  0 -2  0  0 -1  0  0  0  1  0  0  0  0 -1  0 -1  0  0  0\n",
            "  0  0  1  2  0  0  0  0  0  0  0  0  2  0  0  0  0  0  1 -1  0 -1 -2  1\n",
            "  0  0  0 -1 -1  0 -1  0  0  0  0  1  0  0  1  0  0  0  0  1 -2  0 -2 -1\n",
            " -1  0  0  0  0  0  0  0 -2  0  0  0  0  0  0  0 -1  0  1  0  0  1  0  0\n",
            "  1  0  0  0  0  1  0  0  0  1  0  0  0  1  0  0  0  0  0 -1  0  0  1  0\n",
            "  0  0  0  2  0  0  0  2  0  0  0 -1  0  0  0  0 -1  0  0  0  0  0  0  0\n",
            "  0  0  0  1  0  0 -1 -1  0  0  0  0  0  0  0  0  0  0  0  0  1  0  0 -1\n",
            "  1  0  0  1  0  0  1 -1  0  0 -1 -1  0  0  0  0  0 -1  0  1 -1  0  0  0\n",
            "  0  0  0  0  0  0  0  0  0  0  0  0  0  0  0  0  0  0  0  0  0  1 -1  0\n",
            "  0  0  0  1  0  0  0  0 -1  0  0  0  0  0  0  0  0  0  0  0 -1  1  0  2\n",
            "  0  1  0  1  0  0 -1  0  0 -1  1  0  0  0  0  0  0  0  0  0  1  1  1 -1\n",
            "  0 -2  0  0  1  2  0  1  0  0  2  0  0  0 -1  0  0  0  0  0  0  0  0 -1\n",
            "  0  0  1 -1  0  0  0  1  0  0 -1  0  0 -1  0  0  0  0  0  1  0 -1  0  1\n",
            "  0 -1  0 -2  0  0  0 -2  0  0  0  0  1  0  1 -1  0  0 -1 -1  0  0  0  0\n",
            "  0 -1  1  1  0  0  0  0  0 -1  0  0  0  0  0 -1  0  0  0 -2  0  1  0  2\n",
            "  0  0  0 -1  0  1  0  0  0  0  0  0  0  0  0  0  1 -1  0  0  1  0  0  1\n",
            " -1 -1  1  0  0  0  0 -2  0  0  0 -1  0  0  1  0  3  0  1  1  0  0 -2 -1\n",
            "  0  1  0 -1  0 -1  0  0  0  0  0  0  0  1  0  0 -1  0  0  0  0  0  0  0\n",
            "  0  0 -2  0  0  0  0  0  0  0 -1  1 -3  1  0  0  0  1  0  0  0  0  0  0\n",
            "  0  1  1 -2  0 -1  1  0 -1  0  1  1  0  0  0  1  0  0  1  2  1  0  0  0\n",
            "  0 -1 -1  0  0 -1  0  0  0  0  1  0 -1  0 -2  0  0  1 -1 -1  0  2  0  0\n",
            "  1  0  0  0  0  0  0  0  0  1  0  0  0 -1  0  2  0  1  0  0 -1  0  0  0\n",
            "  0  0  0  0  0  0  1  0 -2  0 -1 -1  0  1  0  0  0 -1 -1  0  0 -1  0  0\n",
            "  0  0 -2  0  0  0  0  1  2  0  0  0  0  0  0  0 -1  0  1 -1  1 -1  0  0\n",
            "  0  0  1  1  1  0  0 -1  0  0  0  0 -1 -1  0  0 -1  0  0  0  0  0  0  0\n",
            " -1  0  0  0  0  0  0 -1  1  0 -2  0 -1  0 -1  0  1  0 -1  0 -1  0  0  0\n",
            "  0  0 -1 -1  0  0  0  0  0  0  0 -1 -1 -1 -3  0  0  0  0 -1  0 -1  0  0\n",
            "  1  0  0  0  0  0  0  0  0 -1  0  0  1  0  0  0  0  0  0 -1  0  0  0  1\n",
            " -2  0  0  0  0  0  0 -1  1  0  1  1  0  0  1  2  0  0  0  0  0  0  0  0\n",
            "  0  0  2 -1  0  2  0 -1  0  0  0  0  0  0  1  1]\n",
            "Ingrese un numero a buscar:\n",
            "5\n",
            "El numero no ha sido encontrado\n",
            "\n",
            "Tiempo Total:  8210.763 [ms]\n"
          ],
          "name": "stdout"
        }
      ]
    },
    {
      "cell_type": "markdown",
      "metadata": {
        "id": "R3ybCoH1kXuQ"
      },
      "source": [
        "#4 Tabla de pasos"
      ]
    },
    {
      "cell_type": "markdown",
      "metadata": {
        "id": "Q-1_xEkUeSTI"
      },
      "source": [
        "Tabla de pasos de la ejecución del programa:"
      ]
    },
    {
      "cell_type": "markdown",
      "metadata": {
        "id": "e49KhuGgkhbf"
      },
      "source": [
        "\n",
        "\n",
        " Procesador | Funciòn | Detalle\n",
        "------------|---------|----------\n",
        "CPU      |  @param                | Lectura del tamaño del vector desde Colab.\n",
        "CPU      |  import                | Importa los módulos para funcionar.\n",
        "CPU      |  datetime.now()        | Toma el tiempo actual.\n",
        "CPU      |  numeroEncontrado=0    | inicializo variable para usarla como bandera para saber si encontra el elemento buscado\n",
        "CPU      |  numpy.random.randn( numeroElementos ) | Inicializa el vectorCpu.\n",
        "CPU      | for                    | realizo la buqueda del número buscado en el vectorCPU\n",
        "CPU      | if                     | si encuentro el número buscado en el vectorCpu,pongo la variable numeroEncontrado=1 para saber que lo encontre\n",
        "CPU      | if                     | si numeroEncontrado es igual a 1,significa que encontre el numero, si es 0 no lo encontre\n",
        "CPU      |  print()               | Informo si encontre o no el elemento buscado.\n",
        "\n"
      ]
    },
    {
      "cell_type": "markdown",
      "metadata": {
        "id": "Jsv-oNcekiAc"
      },
      "source": [
        "#5 Conclusiones"
      ]
    },
    {
      "cell_type": "markdown",
      "metadata": {
        "id": "mxYRDL0ekl_x"
      },
      "source": [
        ""
      ]
    },
    {
      "cell_type": "markdown",
      "metadata": {
        "id": "yb3TKcl4kpZs"
      },
      "source": [
        "#6 Bibliografia"
      ]
    },
    {
      "cell_type": "markdown",
      "metadata": {
        "id": "eSJdU3ZIksYp"
      },
      "source": [
        "[1] MARKDOWN SYNTAX Colab: [PDF](https://github.com/wvaliente/SOA_HPC/blob/main/Documentos/markdown-cheatsheet-online.pdf)\n",
        "\n",
        "[2] Introducción a Python: [pagina colab](https://github.com/wvaliente/SOA_HPC/blob/main/Documentos/Python_Basico.ipynb)"
      ]
    }
  ]
}