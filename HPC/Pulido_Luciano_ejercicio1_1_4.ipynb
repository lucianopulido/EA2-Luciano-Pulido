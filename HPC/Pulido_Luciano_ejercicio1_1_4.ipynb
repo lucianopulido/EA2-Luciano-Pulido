{
  "nbformat": 4,
  "nbformat_minor": 0,
  "metadata": {
    "colab": {
      "name": "Pulido_Luciano_ejercicio1_1_4.ipynb",
      "provenance": [],
      "collapsed_sections": []
    },
    "kernelspec": {
      "name": "python3",
      "display_name": "Python 3"
    }
  },
  "cells": [
    {
      "cell_type": "markdown",
      "metadata": {
        "id": "k2kJD_Iluus8"
      },
      "source": [
        "#1 Introducción"
      ]
    },
    {
      "cell_type": "markdown",
      "metadata": {
        "id": "LdGhm4yUu3Am"
      },
      "source": [
        "En el siguiente cuaderno se realiza una suma de matrices en python implementando paralelismo utilizando la CPU."
      ]
    },
    {
      "cell_type": "markdown",
      "metadata": {
        "id": "jNpnBkgSu4jm"
      },
      "source": [
        "#2 Armado del ambiente"
      ]
    },
    {
      "cell_type": "markdown",
      "metadata": {
        "id": "RQWKrgIZu6zg"
      },
      "source": [
        "No son necesarios, ejecuciones previas del armado del ambiente."
      ]
    },
    {
      "cell_type": "markdown",
      "metadata": {
        "id": "GRufLHAwu8RM"
      },
      "source": [
        "#3 Desarrollo"
      ]
    },
    {
      "cell_type": "code",
      "metadata": {
        "id": "cdpzMp7Wu-Hp",
        "colab": {
          "base_uri": "https://localhost:8080/"
        },
        "outputId": "3ac66d20-6c83-47ae-e4c1-ce1a58a2c8c6"
      },
      "source": [
        "#@title Parametros: { display-mode: \"both\" }\n",
        "ordenMatriz =  -1#@param {type:\"number\"}\n",
        "import threading\n",
        "import numpy\n",
        "import queue\n",
        "\n",
        "try:\n",
        "  cola1 = queue.Queue()\n",
        "  cola2 = queue.Queue()\n",
        "\n",
        "  def operacionesMatriz1(matriz,nombre,ordenMatriz):\n",
        "    print(\"hola soy:\",nombre)\n",
        "    print(matriz)\n",
        "    for i in range(0,ordenMatriz):\n",
        "      for j in range(0,ordenMatriz):\n",
        "        cola1.put(matriz[i][j])\n",
        "\n",
        "  def operacionesMatriz2(matriz,nombre,ordenMatriz):\n",
        "    print(\"hola soy:\",nombre)\n",
        "    print(matriz)\n",
        "    for i in range(0,ordenMatriz):\n",
        "      for j in range(0,ordenMatriz):\n",
        "        cola2.put(matriz[i][j])\n",
        "\n",
        "  matriz1 = numpy.random.random((ordenMatriz,ordenMatriz))\n",
        "  matriz1 = matriz1.astype(numpy.float32())\n",
        "  matriz2 = numpy.random.random((ordenMatriz,ordenMatriz))\n",
        "  matriz2 = matriz2.astype(numpy.float32())\n",
        "  matrizR = numpy.empty_like(matriz1)\n",
        "\n",
        "  thread1 = threading.Thread(target=operacionesMatriz1,args=(matriz1,\"hilo1\",ordenMatriz,))\n",
        "  thread1.start()\n",
        "\n",
        "  thread2 = threading.Thread(target=operacionesMatriz2,args=(matriz2,\"hilo2\",ordenMatriz,))\n",
        "  thread2.start()\n",
        "  thread2.join()\n",
        "\n",
        "  print(\"\")\n",
        "  print(\"Soy el hilo principal y voy a hacer el calculo de la suma de matrices\")\n",
        "\n",
        "  for i in range(0,ordenMatriz):\n",
        "    for j in range(0,ordenMatriz):\n",
        "        numeroM1 = cola1.get()\n",
        "        numeroM2 = cola2.get()\n",
        "        matrizR[i][j] = (numeroM1+numeroM2)\n",
        "\n",
        "\n",
        "  print(matrizR)\n",
        "except ValueError:\n",
        "  print(\"se ha ingresado un numero de orden menor a 0\")\n",
        "  print(\"ingrese un numero de orden de la matriz igual o mayor a 0\")\n"
      ],
      "execution_count": 3,
      "outputs": [
        {
          "output_type": "stream",
          "text": [
            "se ha ingresado un numero de orden menor a 0\n",
            "ingrese un numero de orden de la matriz igual o mayor a 0\n"
          ],
          "name": "stdout"
        }
      ]
    },
    {
      "cell_type": "markdown",
      "metadata": {
        "id": "6nBy94hWvBaJ"
      },
      "source": [
        "\n",
        " Procesador | Funciòn | Detalle\n",
        "------------|---------|----------\n",
        "CPU      |  @param                | Lectura del tamaño del vector desde Colab.\n",
        "CPU      |  import                | Importa los módulos para funcionar.\n",
        "CPU      |  datetime.now()        | Toma el tiempo actual.\n",
        "CPU      |  numpy.random.randn( ordenMatriz ) | Inicializa las matrices\n",
        "**GPU**  |  cuda.mem_alloc()      | Reserva la memoria en GPU.\n",
        "**GPU**  |  cuda.memcpy_htod()    | Copia las memorias desde el CPU al GPU.\n",
        "CPU      |  SourceModule()        | Define el código del kernel donde se transpone la matriz\n",
        "CPU      |  module.get_function() | Genera la función del kernel GPU\n",
        "CPU      |  dim_hilo/dim_bloque   | Calcula las dimensiones.\n",
        "**GPU**  |  kernel()              | Ejecuta el kernel en GPU\n",
        "CPU      |  cuda.memcpy_dtoh( )   | Copia el resultado desde GPU memoria A a CPU memoria R.\n",
        "CPU      |  print()               | Informo los resultados."
      ]
    },
    {
      "cell_type": "markdown",
      "metadata": {
        "id": "MSlfGhoXvB9U"
      },
      "source": [
        "#5 Conclusiones"
      ]
    },
    {
      "cell_type": "markdown",
      "metadata": {
        "id": "N_q54RcgvEHq"
      },
      "source": [
        ""
      ]
    },
    {
      "cell_type": "markdown",
      "metadata": {
        "id": "Yq9Z5J07vEho"
      },
      "source": [
        "#6 Bibliografia"
      ]
    },
    {
      "cell_type": "markdown",
      "metadata": {
        "id": "fCxoyZcivGO8"
      },
      "source": [
        ""
      ]
    }
  ]
}