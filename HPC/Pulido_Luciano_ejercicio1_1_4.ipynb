{
  "nbformat": 4,
  "nbformat_minor": 0,
  "metadata": {
    "colab": {
      "name": "Pulido_Luciano_ejercicio1_1_4.ipynb",
      "provenance": [],
      "collapsed_sections": []
    },
    "kernelspec": {
      "name": "python3",
      "display_name": "Python 3"
    }
  },
  "cells": [
    {
      "cell_type": "markdown",
      "metadata": {
        "id": "k2kJD_Iluus8"
      },
      "source": [
        "#1 Introducción"
      ]
    },
    {
      "cell_type": "markdown",
      "metadata": {
        "id": "LdGhm4yUu3Am"
      },
      "source": [
        "En el siguiente cuaderno se realiza el algoritmo que obtiene la la suma de 2  matrices que guardan el resultado de la misma en una matriz de resultados (el orden de las matrices se ingresa por parametro)  aplicando paralelismo mediante Threads [4] y comunicando los mismos con el hilo principal mediante 2 colas y todo esto utilizando la CPU.\n",
        "\n",
        "El algoritmo de este cuadernos se basa en, valga la redundancia, del algortimo para sumar 2 matrices proveniente del algebra lineal[3]\n",
        "\n",
        "El objetivo es bajar los tiempos de ejecución repartiendo la carga del procesamiento de los datos en distintos hilos e implementando paralelismo para realizar la suma de 2  matrices, utilizando el lenguaje python [2] y la plataforma colab [1].\n"
      ]
    },
    {
      "cell_type": "markdown",
      "metadata": {
        "id": "jNpnBkgSu4jm"
      },
      "source": [
        "#2 Armado del ambiente"
      ]
    },
    {
      "cell_type": "markdown",
      "metadata": {
        "id": "RQWKrgIZu6zg"
      },
      "source": [
        "No son necesarios, ejecuciones previas del armado del ambiente."
      ]
    },
    {
      "cell_type": "markdown",
      "metadata": {
        "id": "GRufLHAwu8RM"
      },
      "source": [
        "#3 Desarrollo"
      ]
    },
    {
      "cell_type": "code",
      "metadata": {
        "id": "cdpzMp7Wu-Hp",
        "colab": {
          "base_uri": "https://localhost:8080/"
        },
        "outputId": "f75bc637-b8ac-4a2d-83db-e80e4f133776"
      },
      "source": [
        "#@title Parametros: { vertical-output: true, display-mode: \"both\" }\n",
        "ordenMatriz =  1#@param {type:\"number\"}\n",
        "\n",
        "from datetime import datetime\n",
        "import threading\n",
        "import numpy\n",
        "import queue\n",
        "\n",
        "tiempoTotal = datetime.now()\n",
        "\n",
        "tiempo_en_ms = lambda dt:(dt.days * 24 * 60 * 60 + dt.seconds) * 1000 + dt.microseconds / 1000.0\n",
        "try:\n",
        "  cola1 = queue.Queue()\n",
        "  cola2 = queue.Queue()\n",
        "\n",
        "  def operacionesMatriz1(matriz,ordenMatriz):\n",
        "    print(matriz)\n",
        "    for i in range(0,ordenMatriz):\n",
        "      for j in range(0,ordenMatriz):\n",
        "        cola1.put(matriz[i][j])\n",
        "\n",
        "  def operacionesMatriz2(matriz,ordenMatriz):\n",
        "    print(matriz)\n",
        "    for i in range(0,ordenMatriz):\n",
        "      for j in range(0,ordenMatriz):\n",
        "        cola2.put(matriz[i][j])\n",
        "\n",
        "  matriz1 = numpy.random.random((ordenMatriz,ordenMatriz))\n",
        "  matriz1 = matriz1.astype(numpy.float32())\n",
        "  matriz2 = numpy.random.random((ordenMatriz,ordenMatriz))\n",
        "  matriz2 = matriz2.astype(numpy.float32())\n",
        "  matrizR = numpy.empty_like(matriz1)\n",
        "\n",
        "  print(\"Matrices a sumar: \")\n",
        "  thread1 = threading.Thread(target=operacionesMatriz1,args=(matriz1,ordenMatriz,))\n",
        "  thread1.start()\n",
        "  \n",
        "  thread2 = threading.Thread(target=operacionesMatriz2,args=(matriz2,ordenMatriz,))\n",
        "  thread2.start()\n",
        "  thread2.join()\n",
        "\n",
        "  print(\"\")\n",
        "  for i in range(0,ordenMatriz):\n",
        "    for j in range(0,ordenMatriz):\n",
        "        numeroM1 = cola1.get()\n",
        "        numeroM2 = cola2.get()\n",
        "        matrizR[i][j] = (numeroM1+numeroM2)\n",
        "\n",
        "  tiempoTotal = datetime.now() - tiempoTotal\n",
        "\n",
        "  print(\"Matriz Resultado de la suma: \")\n",
        "  print(matrizR)\n",
        "  print(\"\")\n",
        "  print(\"Tiempo Total: \",tiempo_en_ms(tiempoTotal),\"[ms]\")\n",
        "\n",
        "except ValueError:\n",
        "  print(\"se ha ingresado un numero de orden menor a 0\")\n",
        "  print(\"ingrese un numero de orden de la matriz igual o mayor a 0\")\n"
      ],
      "execution_count": 19,
      "outputs": [
        {
          "output_type": "stream",
          "text": [
            "Matrices a sumar: \n",
            "[[0.230688]]\n",
            "[[0.5345379]]\n",
            "\n",
            "Matriz Resultado de la suma: \n",
            "[[0.7652259]]\n",
            "\n",
            "Tiempo Total:  7.635 [ms]\n"
          ],
          "name": "stdout"
        }
      ]
    },
    {
      "cell_type": "markdown",
      "metadata": {
        "id": "6nBy94hWvBaJ"
      },
      "source": [
        "\n",
        " Procesador | Funciòn | Detalle\n",
        "------------|---------|----------\n",
        "CPU      |  @param                | Lectura del tamaño(orden) de las matrices desde Colab.\n",
        "CPU      |  import                | Importa los módulos para funcionar.\n",
        "CPU      |  datetime.now()        | Toma el tiempo actual.\n",
        "CPU      |  cola1 = queue.Queue() cola2 = queue.Queue()| inicializo 2 colas\n",
        "CPU      |  numpy.random.randn( ordenMatriz ) | Inicializa las matrices\n",
        "CPU      |  thread1 = threading.Thread(target=operacionesMatriz1,args=(matriz1,ordenMatriz,))| inicializo thread1  \n",
        "CPU      | thread1.start()        | ejecuta la funcion asociada el thread\n",
        "CPU      | for                    | leo y pongo los valores de la matriz correspondiente en la cola correspondiente\n",
        "CPU      |  thread2 = threading.Thread(target=operacionesMatriz1,args=(matriz2,ordenMatriz,))| inicializo thread2  \n",
        "CPU      | thread2.start()        | ejecuta la funcion asociada el thread\n",
        "CPU      | for                    | leo y pongo los valores de la matriz correspondiente en la cola correspondiente\n",
        "CPU      | for                    | leo valores de ambas colas, realizo la suma y los guardo en la matriz de resultados en la posicion correspondiente\n",
        "CPU      |  print()               | Informo los resultados."
      ]
    },
    {
      "cell_type": "markdown",
      "metadata": {
        "id": "MSlfGhoXvB9U"
      },
      "source": [
        "#5 Conclusiones"
      ]
    },
    {
      "cell_type": "markdown",
      "metadata": {
        "id": "N_q54RcgvEHq"
      },
      "source": [
        "En este ejercicio que se basa en el algoritmo de la suma de 2 matrices, utilice 2 Threads los cuales cada uno llama a la función que le corresponde y ejecuta esa función, cargando los valores de las matrices correspondientes en la cola correspondiente, estas colas las implemente para comunicar, los datos cargados de las matrices al hilo principal y que este último se encargue de hacer la suma, leyendo un dato de cada cola y sumando los mismos y almacenandolos en la matriz de resultados en la posición correspondiente.\n",
        "\n",
        "Aunque intente dividir la carga del trabajo en diversos hilos, los tiempos de ejecución fueron elevados por la cantidad de bucles que hay en las funciones y en el hilo principal.\n",
        "\n",
        "Por este motivo, si se quisiera mejorar la eficiencia del ejercicio seria optimo utilizar la GPU y usar el modulo CUDA, porque podriamos evitarnos todos estos bucles que mencione anteriormente, debido a la gran cantidad de hilos que nos ofrece CUDA  y poder así bajar el tiempo de ejecución\n"
      ]
    },
    {
      "cell_type": "markdown",
      "metadata": {
        "id": "Yq9Z5J07vEho"
      },
      "source": [
        "#6 Bibliografia"
      ]
    },
    {
      "cell_type": "markdown",
      "metadata": {
        "id": "fCxoyZcivGO8"
      },
      "source": [
        "[1] MARKDOWN SYNTAX Colab:[PDF](https://github.com/wvaliente/SOA_HPC/blob/main/Documentos/markdown-cheatsheet-online.pdf)\n",
        "\n",
        "[2] Introducción a Python: [pagina colab](https://github.com/wvaliente/SOA_HPC/blob/main/Documentos/Python_Basico.ipynb)\n",
        "\n",
        "[3] Función de suma de matrices: [WEB](https://es.wikipedia.org/wiki/Matriz_(matem%C3%A1ticas)#Suma_o_adici%C3%B3n)\n",
        "\n",
        "[4] Threads en python : [WEB](http://chuwiki.chuidiang.org/index.php?title=Hilos_en_python)\n"
      ]
    }
  ]
}