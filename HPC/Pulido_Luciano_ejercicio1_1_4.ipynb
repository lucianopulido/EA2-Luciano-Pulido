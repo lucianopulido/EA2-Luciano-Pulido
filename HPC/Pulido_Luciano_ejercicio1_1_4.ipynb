{
  "nbformat": 4,
  "nbformat_minor": 0,
  "metadata": {
    "colab": {
      "name": "Pulido_Luciano_ejercicio1_1_4_GPU.ipynb",
      "provenance": [],
      "collapsed_sections": []
    },
    "kernelspec": {
      "name": "python3",
      "display_name": "Python 3"
    },
    "accelerator": "GPU"
  },
  "cells": [
    {
      "cell_type": "markdown",
      "metadata": {
        "id": "k2kJD_Iluus8"
      },
      "source": [
        "#1 Introducción"
      ]
    },
    {
      "cell_type": "markdown",
      "metadata": {
        "id": "LdGhm4yUu3Am"
      },
      "source": [
        ""
      ]
    },
    {
      "cell_type": "markdown",
      "metadata": {
        "id": "jNpnBkgSu4jm"
      },
      "source": [
        "#2 Armado del ambiente"
      ]
    },
    {
      "cell_type": "markdown",
      "metadata": {
        "id": "RQWKrgIZu6zg"
      },
      "source": [
        ""
      ]
    },
    {
      "cell_type": "code",
      "metadata": {
        "id": "E_6Fq3KPuqCf",
        "outputId": "e411dbf4-1bbd-47b5-acbf-e731a3d618b1",
        "colab": {
          "base_uri": "https://localhost:8080/"
        }
      },
      "source": [
        "! mpicc -o hello hello.c"
      ],
      "execution_count": null,
      "outputs": [
        {
          "output_type": "stream",
          "text": [
            "Collecting mpi4py\n",
            "\u001b[?25l  Downloading https://files.pythonhosted.org/packages/ec/8f/bbd8de5ba566dd77e408d8136e2bab7fdf2b97ce06cab830ba8b50a2f588/mpi4py-3.0.3.tar.gz (1.4MB)\n",
            "\r\u001b[K     |▎                               | 10kB 21.7MB/s eta 0:00:01\r\u001b[K     |▌                               | 20kB 27.0MB/s eta 0:00:01\r\u001b[K     |▊                               | 30kB 23.6MB/s eta 0:00:01\r\u001b[K     |█                               | 40kB 26.6MB/s eta 0:00:01\r\u001b[K     |█▏                              | 51kB 29.6MB/s eta 0:00:01\r\u001b[K     |█▍                              | 61kB 30.6MB/s eta 0:00:01\r\u001b[K     |█▋                              | 71kB 29.3MB/s eta 0:00:01\r\u001b[K     |█▉                              | 81kB 18.7MB/s eta 0:00:01\r\u001b[K     |██                              | 92kB 17.6MB/s eta 0:00:01\r\u001b[K     |██▎                             | 102kB 17.2MB/s eta 0:00:01\r\u001b[K     |██▌                             | 112kB 17.2MB/s eta 0:00:01\r\u001b[K     |██▊                             | 122kB 17.2MB/s eta 0:00:01\r\u001b[K     |███                             | 133kB 17.2MB/s eta 0:00:01\r\u001b[K     |███▏                            | 143kB 17.2MB/s eta 0:00:01\r\u001b[K     |███▍                            | 153kB 17.2MB/s eta 0:00:01\r\u001b[K     |███▊                            | 163kB 17.2MB/s eta 0:00:01\r\u001b[K     |████                            | 174kB 17.2MB/s eta 0:00:01\r\u001b[K     |████▏                           | 184kB 17.2MB/s eta 0:00:01\r\u001b[K     |████▍                           | 194kB 17.2MB/s eta 0:00:01\r\u001b[K     |████▋                           | 204kB 17.2MB/s eta 0:00:01\r\u001b[K     |████▉                           | 215kB 17.2MB/s eta 0:00:01\r\u001b[K     |█████                           | 225kB 17.2MB/s eta 0:00:01\r\u001b[K     |█████▎                          | 235kB 17.2MB/s eta 0:00:01\r\u001b[K     |█████▌                          | 245kB 17.2MB/s eta 0:00:01\r\u001b[K     |█████▊                          | 256kB 17.2MB/s eta 0:00:01\r\u001b[K     |██████                          | 266kB 17.2MB/s eta 0:00:01\r\u001b[K     |██████▏                         | 276kB 17.2MB/s eta 0:00:01\r\u001b[K     |██████▍                         | 286kB 17.2MB/s eta 0:00:01\r\u001b[K     |██████▋                         | 296kB 17.2MB/s eta 0:00:01\r\u001b[K     |██████▉                         | 307kB 17.2MB/s eta 0:00:01\r\u001b[K     |███████                         | 317kB 17.2MB/s eta 0:00:01\r\u001b[K     |███████▍                        | 327kB 17.2MB/s eta 0:00:01\r\u001b[K     |███████▋                        | 337kB 17.2MB/s eta 0:00:01\r\u001b[K     |███████▉                        | 348kB 17.2MB/s eta 0:00:01\r\u001b[K     |████████                        | 358kB 17.2MB/s eta 0:00:01\r\u001b[K     |████████▎                       | 368kB 17.2MB/s eta 0:00:01\r\u001b[K     |████████▌                       | 378kB 17.2MB/s eta 0:00:01\r\u001b[K     |████████▊                       | 389kB 17.2MB/s eta 0:00:01\r\u001b[K     |█████████                       | 399kB 17.2MB/s eta 0:00:01\r\u001b[K     |█████████▏                      | 409kB 17.2MB/s eta 0:00:01\r\u001b[K     |█████████▍                      | 419kB 17.2MB/s eta 0:00:01\r\u001b[K     |█████████▋                      | 430kB 17.2MB/s eta 0:00:01\r\u001b[K     |█████████▉                      | 440kB 17.2MB/s eta 0:00:01\r\u001b[K     |██████████                      | 450kB 17.2MB/s eta 0:00:01\r\u001b[K     |██████████▎                     | 460kB 17.2MB/s eta 0:00:01\r\u001b[K     |██████████▌                     | 471kB 17.2MB/s eta 0:00:01\r\u001b[K     |██████████▊                     | 481kB 17.2MB/s eta 0:00:01\r\u001b[K     |███████████                     | 491kB 17.2MB/s eta 0:00:01\r\u001b[K     |███████████▎                    | 501kB 17.2MB/s eta 0:00:01\r\u001b[K     |███████████▌                    | 512kB 17.2MB/s eta 0:00:01\r\u001b[K     |███████████▊                    | 522kB 17.2MB/s eta 0:00:01\r\u001b[K     |████████████                    | 532kB 17.2MB/s eta 0:00:01\r\u001b[K     |████████████▏                   | 542kB 17.2MB/s eta 0:00:01\r\u001b[K     |████████████▍                   | 552kB 17.2MB/s eta 0:00:01\r\u001b[K     |████████████▋                   | 563kB 17.2MB/s eta 0:00:01\r\u001b[K     |████████████▉                   | 573kB 17.2MB/s eta 0:00:01\r\u001b[K     |█████████████                   | 583kB 17.2MB/s eta 0:00:01\r\u001b[K     |█████████████▎                  | 593kB 17.2MB/s eta 0:00:01\r\u001b[K     |█████████████▌                  | 604kB 17.2MB/s eta 0:00:01\r\u001b[K     |█████████████▊                  | 614kB 17.2MB/s eta 0:00:01\r\u001b[K     |██████████████                  | 624kB 17.2MB/s eta 0:00:01\r\u001b[K     |██████████████▏                 | 634kB 17.2MB/s eta 0:00:01\r\u001b[K     |██████████████▍                 | 645kB 17.2MB/s eta 0:00:01\r\u001b[K     |██████████████▊                 | 655kB 17.2MB/s eta 0:00:01\r\u001b[K     |███████████████                 | 665kB 17.2MB/s eta 0:00:01\r\u001b[K     |███████████████▏                | 675kB 17.2MB/s eta 0:00:01\r\u001b[K     |███████████████▍                | 686kB 17.2MB/s eta 0:00:01\r\u001b[K     |███████████████▋                | 696kB 17.2MB/s eta 0:00:01\r\u001b[K     |███████████████▉                | 706kB 17.2MB/s eta 0:00:01\r\u001b[K     |████████████████                | 716kB 17.2MB/s eta 0:00:01\r\u001b[K     |████████████████▎               | 727kB 17.2MB/s eta 0:00:01\r\u001b[K     |████████████████▌               | 737kB 17.2MB/s eta 0:00:01\r\u001b[K     |████████████████▊               | 747kB 17.2MB/s eta 0:00:01\r\u001b[K     |█████████████████               | 757kB 17.2MB/s eta 0:00:01\r\u001b[K     |█████████████████▏              | 768kB 17.2MB/s eta 0:00:01\r\u001b[K     |█████████████████▍              | 778kB 17.2MB/s eta 0:00:01\r\u001b[K     |█████████████████▋              | 788kB 17.2MB/s eta 0:00:01\r\u001b[K     |█████████████████▉              | 798kB 17.2MB/s eta 0:00:01\r\u001b[K     |██████████████████              | 808kB 17.2MB/s eta 0:00:01\r\u001b[K     |██████████████████▍             | 819kB 17.2MB/s eta 0:00:01\r\u001b[K     |██████████████████▋             | 829kB 17.2MB/s eta 0:00:01\r\u001b[K     |██████████████████▉             | 839kB 17.2MB/s eta 0:00:01\r\u001b[K     |███████████████████             | 849kB 17.2MB/s eta 0:00:01\r\u001b[K     |███████████████████▎            | 860kB 17.2MB/s eta 0:00:01\r\u001b[K     |███████████████████▌            | 870kB 17.2MB/s eta 0:00:01\r\u001b[K     |███████████████████▊            | 880kB 17.2MB/s eta 0:00:01\r\u001b[K     |████████████████████            | 890kB 17.2MB/s eta 0:00:01\r\u001b[K     |████████████████████▏           | 901kB 17.2MB/s eta 0:00:01\r\u001b[K     |████████████████████▍           | 911kB 17.2MB/s eta 0:00:01\r\u001b[K     |████████████████████▋           | 921kB 17.2MB/s eta 0:00:01\r\u001b[K     |████████████████████▉           | 931kB 17.2MB/s eta 0:00:01\r\u001b[K     |█████████████████████           | 942kB 17.2MB/s eta 0:00:01\r\u001b[K     |█████████████████████▎          | 952kB 17.2MB/s eta 0:00:01\r\u001b[K     |█████████████████████▌          | 962kB 17.2MB/s eta 0:00:01\r\u001b[K     |█████████████████████▉          | 972kB 17.2MB/s eta 0:00:01\r\u001b[K     |██████████████████████          | 983kB 17.2MB/s eta 0:00:01\r\u001b[K     |██████████████████████▎         | 993kB 17.2MB/s eta 0:00:01\r\u001b[K     |██████████████████████▌         | 1.0MB 17.2MB/s eta 0:00:01\r\u001b[K     |██████████████████████▊         | 1.0MB 17.2MB/s eta 0:00:01\r\u001b[K     |███████████████████████         | 1.0MB 17.2MB/s eta 0:00:01\r\u001b[K     |███████████████████████▏        | 1.0MB 17.2MB/s eta 0:00:01\r\u001b[K     |███████████████████████▍        | 1.0MB 17.2MB/s eta 0:00:01\r\u001b[K     |███████████████████████▋        | 1.1MB 17.2MB/s eta 0:00:01\r\u001b[K     |███████████████████████▉        | 1.1MB 17.2MB/s eta 0:00:01\r\u001b[K     |████████████████████████        | 1.1MB 17.2MB/s eta 0:00:01\r\u001b[K     |████████████████████████▎       | 1.1MB 17.2MB/s eta 0:00:01\r\u001b[K     |████████████████████████▌       | 1.1MB 17.2MB/s eta 0:00:01\r\u001b[K     |████████████████████████▊       | 1.1MB 17.2MB/s eta 0:00:01\r\u001b[K     |█████████████████████████       | 1.1MB 17.2MB/s eta 0:00:01\r\u001b[K     |█████████████████████████▏      | 1.1MB 17.2MB/s eta 0:00:01\r\u001b[K     |█████████████████████████▌      | 1.1MB 17.2MB/s eta 0:00:01\r\u001b[K     |█████████████████████████▊      | 1.1MB 17.2MB/s eta 0:00:01\r\u001b[K     |██████████████████████████      | 1.2MB 17.2MB/s eta 0:00:01\r\u001b[K     |██████████████████████████▏     | 1.2MB 17.2MB/s eta 0:00:01\r\u001b[K     |██████████████████████████▍     | 1.2MB 17.2MB/s eta 0:00:01\r\u001b[K     |██████████████████████████▋     | 1.2MB 17.2MB/s eta 0:00:01\r\u001b[K     |██████████████████████████▉     | 1.2MB 17.2MB/s eta 0:00:01\r\u001b[K     |███████████████████████████     | 1.2MB 17.2MB/s eta 0:00:01\r\u001b[K     |███████████████████████████▎    | 1.2MB 17.2MB/s eta 0:00:01\r\u001b[K     |███████████████████████████▌    | 1.2MB 17.2MB/s eta 0:00:01\r\u001b[K     |███████████████████████████▊    | 1.2MB 17.2MB/s eta 0:00:01\r\u001b[K     |████████████████████████████    | 1.2MB 17.2MB/s eta 0:00:01\r\u001b[K     |████████████████████████████▏   | 1.3MB 17.2MB/s eta 0:00:01\r\u001b[K     |████████████████████████████▍   | 1.3MB 17.2MB/s eta 0:00:01\r\u001b[K     |████████████████████████████▋   | 1.3MB 17.2MB/s eta 0:00:01\r\u001b[K     |████████████████████████████▉   | 1.3MB 17.2MB/s eta 0:00:01\r\u001b[K     |█████████████████████████████▏  | 1.3MB 17.2MB/s eta 0:00:01\r\u001b[K     |█████████████████████████████▍  | 1.3MB 17.2MB/s eta 0:00:01\r\u001b[K     |█████████████████████████████▋  | 1.3MB 17.2MB/s eta 0:00:01\r\u001b[K     |█████████████████████████████▉  | 1.3MB 17.2MB/s eta 0:00:01\r\u001b[K     |██████████████████████████████  | 1.3MB 17.2MB/s eta 0:00:01\r\u001b[K     |██████████████████████████████▎ | 1.4MB 17.2MB/s eta 0:00:01\r\u001b[K     |██████████████████████████████▌ | 1.4MB 17.2MB/s eta 0:00:01\r\u001b[K     |██████████████████████████████▊ | 1.4MB 17.2MB/s eta 0:00:01\r\u001b[K     |███████████████████████████████ | 1.4MB 17.2MB/s eta 0:00:01\r\u001b[K     |███████████████████████████████▏| 1.4MB 17.2MB/s eta 0:00:01\r\u001b[K     |███████████████████████████████▍| 1.4MB 17.2MB/s eta 0:00:01\r\u001b[K     |███████████████████████████████▋| 1.4MB 17.2MB/s eta 0:00:01\r\u001b[K     |███████████████████████████████▉| 1.4MB 17.2MB/s eta 0:00:01\r\u001b[K     |████████████████████████████████| 1.4MB 17.2MB/s \n",
            "\u001b[?25hBuilding wheels for collected packages: mpi4py\n",
            "  Building wheel for mpi4py (setup.py) ... \u001b[?25l\u001b[?25hdone\n",
            "  Created wheel for mpi4py: filename=mpi4py-3.0.3-cp36-cp36m-linux_x86_64.whl size=2074485 sha256=16b46c33809961f6bd2fd65d41011207750a99a3b9385868f7f748b0d8a3bb68\n",
            "  Stored in directory: /root/.cache/pip/wheels/18/e0/86/2b713dd512199096012ceca61429e12b960888de59818871d6\n",
            "Successfully built mpi4py\n",
            "Installing collected packages: mpi4py\n",
            "Successfully installed mpi4py-3.0.3\n"
          ],
          "name": "stdout"
        }
      ]
    },
    {
      "cell_type": "code",
      "metadata": {
        "id": "cdpzMp7Wu-Hp",
        "outputId": "621ff912-8326-4c12-f697-6ed394cd6ef1",
        "colab": {
          "base_uri": "https://localhost:8080/"
        }
      },
      "source": [
        "\n",
        "\n",
        "codigo = \"\"\"\n",
        "#include <string.h>\n",
        "#include <stdio.h>\n",
        "#include <mpi.h>\n",
        "\n",
        "int main(int argc, char** argv)\n",
        "{\n",
        "  int rank;\n",
        "  int cantidadProcesos;\n",
        "  int tag = 1;\n",
        "  char mensaje[100];\n",
        "  MPI_Status;\n",
        "\n",
        "  MPI_Init(NULL,NULL);\n",
        "\n",
        "  MPI_Comm_rank(MPI_COMM_WORLD,&rank);\n",
        "  MPI_Comm_size(MPI_COMM_WORLD,&cantidadProcesos);\n",
        "\n",
        "  if(rank!=0)\n",
        "  {\n",
        "    int dest = 0;\n",
        "    sprintf(mensaje,\"hola mundo soy el thread %d de %d,rank,cantidadProcesos);\n",
        "    MPI_Send(&mensaje,strlen(mensaje)+1,MPI_CHAR,dest,tag,MPI_COMM_WORLD);\n",
        "  }\n",
        "  else\n",
        "  {\n",
        "    for(int i=1;i<cantidadProcesos;i++)\n",
        "    {\n",
        "      MPI_Recv(&mensaje,100,MPI_CHAR,i,tag,MPI_COMM_WORLD,&status);\n",
        "      printf(\"%s\\n\",mensaje);\n",
        "    }\n",
        "  }\n",
        "\n",
        "  MPI_Finalize();\n",
        "}\n",
        "\n",
        "\"\"\"\n",
        "\n",
        "file = open('hello.py', 'w')\n",
        "file.write(codigo)\n",
        "file.close()\n",
        "\n",
        "    ! mpiexec --allow-run-as-root -np 3 python hello.py hola"
      ],
      "execution_count": null,
      "outputs": [
        {
          "output_type": "stream",
          "text": [
            "parametros:  ['hello.py', 'hola']\n",
            "soy el proceso:  2 no hago nada soy un inutil\n",
            "parametros:  ['hello.py', 'hola']\n",
            "soy el proceso:  1 multiplico a*b: 2\n",
            "parametros:  ['hello.py', 'hola']\n",
            "soy el proceso:  0 sumo a+b: 3\n"
          ],
          "name": "stdout"
        }
      ]
    },
    {
      "cell_type": "markdown",
      "metadata": {
        "id": "GRufLHAwu8RM"
      },
      "source": [
        "#3 Desarrollo"
      ]
    },
    {
      "cell_type": "markdown",
      "metadata": {
        "id": "a46mjPVau-ZT"
      },
      "source": [
        "#4 Tabla de pasos"
      ]
    },
    {
      "cell_type": "markdown",
      "metadata": {
        "id": "6nBy94hWvBaJ"
      },
      "source": [
        ""
      ]
    },
    {
      "cell_type": "markdown",
      "metadata": {
        "id": "MSlfGhoXvB9U"
      },
      "source": [
        "#5 Conclusiones"
      ]
    },
    {
      "cell_type": "markdown",
      "metadata": {
        "id": "N_q54RcgvEHq"
      },
      "source": [
        ""
      ]
    },
    {
      "cell_type": "markdown",
      "metadata": {
        "id": "Yq9Z5J07vEho"
      },
      "source": [
        "#6 Bibliografia"
      ]
    },
    {
      "cell_type": "markdown",
      "metadata": {
        "id": "fCxoyZcivGO8"
      },
      "source": [
        ""
      ]
    }
  ]
}