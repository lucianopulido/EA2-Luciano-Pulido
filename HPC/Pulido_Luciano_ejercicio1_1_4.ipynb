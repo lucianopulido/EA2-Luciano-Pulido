{
  "nbformat": 4,
  "nbformat_minor": 0,
  "metadata": {
    "colab": {
      "name": "Pulido_Luciano_ejercicio1_1_4.ipynb",
      "provenance": [],
      "collapsed_sections": []
    },
    "kernelspec": {
      "name": "python3",
      "display_name": "Python 3"
    },
    "accelerator": "GPU"
  },
  "cells": [
    {
      "cell_type": "markdown",
      "metadata": {
        "id": "k2kJD_Iluus8"
      },
      "source": [
        "#1 Introducción"
      ]
    },
    {
      "cell_type": "markdown",
      "metadata": {
        "id": "LdGhm4yUu3Am"
      },
      "source": [
        ""
      ]
    },
    {
      "cell_type": "markdown",
      "metadata": {
        "id": "jNpnBkgSu4jm"
      },
      "source": [
        "#2 Armado del ambiente"
      ]
    },
    {
      "cell_type": "markdown",
      "metadata": {
        "id": "RQWKrgIZu6zg"
      },
      "source": [
        ""
      ]
    },
    {
      "cell_type": "code",
      "metadata": {
        "id": "cdpzMp7Wu-Hp"
      },
      "source": [
        "\n",
        "\n",
        "codigo = \"\"\"\n",
        "#include <string.h>\n",
        "#include <stdio.h>\n",
        "#include <stdlib.h>\n",
        "#include <mpi.h>\n",
        "\n",
        "int main(int argc, char** argv)\n",
        "{\n",
        "  int rank;\n",
        "  int cantidadProcesos;\n",
        "  int tag = 1;\n",
        "  char mensaje[100];\n",
        "\n",
        "  char * parametro = argv[1];\n",
        "  int orden = atoi(parametro);\n",
        "  \n",
        "  int matriz1[orden][orden];\n",
        "  int matriz2[orden][orden];\n",
        "  int matrizResultado[orden][orden];\n",
        "\n",
        "  \n",
        "  MPI_Status status;\n",
        "\n",
        "  MPI_Init(NULL,NULL);\n",
        "\n",
        "  MPI_Comm_rank(MPI_COMM_WORLD,&rank);\n",
        "  MPI_Comm_size(MPI_COMM_WORLD,&cantidadProcesos);\n",
        "\n",
        "  if(rank!=0)\n",
        "  {\n",
        "    int dest = 0;\n",
        "    sprintf(mensaje,\"hola mundo soy el thread %d de %d\",rank,cantidadProcesos);\n",
        "    MPI_Send(&mensaje,strlen(mensaje)+1,MPI_CHAR,dest,tag,MPI_COMM_WORLD);\n",
        "  }\n",
        "  else\n",
        "  {\n",
        "    for(int i=1;i<cantidadProcesos;i++)\n",
        "    {\n",
        "      MPI_Recv(&mensaje,100,MPI_CHAR,i,tag,MPI_COMM_WORLD,&status);\n",
        "      printf(\"%s\\\\n\",mensaje);\n",
        "    }\n",
        "  }\n",
        "\n",
        "  MPI_Finalize();\n",
        "}\n",
        "\n",
        "\"\"\"\n",
        "\n",
        "file = open('hello.c', 'w')\n",
        "file.write(codigo)\n",
        "file.close()\n"
      ],
      "execution_count": 40,
      "outputs": []
    },
    {
      "cell_type": "code",
      "metadata": {
        "id": "E_6Fq3KPuqCf"
      },
      "source": [
        "! mpicc -o hello hello.c"
      ],
      "execution_count": 41,
      "outputs": []
    },
    {
      "cell_type": "code",
      "metadata": {
        "id": "XkJS1oQsvxIw",
        "outputId": "26addad0-6317-45eb-efc3-a365a05377a1",
        "colab": {
          "base_uri": "https://localhost:8080/"
        }
      },
      "source": [
        "#@title Parametros: { vertical-output: true, display-mode: \"both\" }\n",
        "ordenDeMatriz =  1#@param {type:\"number\"}\n",
        "!mpirun --allow-run-as-root -n 3 hello ordenDeMatriz"
      ],
      "execution_count": 42,
      "outputs": [
        {
          "output_type": "stream",
          "text": [
            "hola mundo soy el thread 1 de 3\n",
            "hola mundo soy el thread 2 de 3\n"
          ],
          "name": "stdout"
        }
      ]
    },
    {
      "cell_type": "markdown",
      "metadata": {
        "id": "GRufLHAwu8RM"
      },
      "source": [
        "#3 Desarrollo"
      ]
    },
    {
      "cell_type": "markdown",
      "metadata": {
        "id": "a46mjPVau-ZT"
      },
      "source": [
        "#4 Tabla de pasos"
      ]
    },
    {
      "cell_type": "markdown",
      "metadata": {
        "id": "6nBy94hWvBaJ"
      },
      "source": [
        ""
      ]
    },
    {
      "cell_type": "markdown",
      "metadata": {
        "id": "MSlfGhoXvB9U"
      },
      "source": [
        "#5 Conclusiones"
      ]
    },
    {
      "cell_type": "markdown",
      "metadata": {
        "id": "N_q54RcgvEHq"
      },
      "source": [
        ""
      ]
    },
    {
      "cell_type": "markdown",
      "metadata": {
        "id": "Yq9Z5J07vEho"
      },
      "source": [
        "#6 Bibliografia"
      ]
    },
    {
      "cell_type": "markdown",
      "metadata": {
        "id": "fCxoyZcivGO8"
      },
      "source": [
        ""
      ]
    }
  ]
}