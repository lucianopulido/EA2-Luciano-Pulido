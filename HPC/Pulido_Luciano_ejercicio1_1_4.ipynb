{
  "nbformat": 4,
  "nbformat_minor": 0,
  "metadata": {
    "colab": {
      "name": "Pulido_Luciano_ejercicio1_1_4.ipynb",
      "provenance": [],
      "collapsed_sections": []
    },
    "kernelspec": {
      "name": "python3",
      "display_name": "Python 3"
    }
  },
  "cells": [
    {
      "cell_type": "markdown",
      "metadata": {
        "id": "k2kJD_Iluus8"
      },
      "source": [
        "#1 Introducción"
      ]
    },
    {
      "cell_type": "markdown",
      "metadata": {
        "id": "LdGhm4yUu3Am"
      },
      "source": [
        "En el siguiente cuaderno se realiza una suma de matrices en python implementando paralelismo utilizando la CPU."
      ]
    },
    {
      "cell_type": "markdown",
      "metadata": {
        "id": "jNpnBkgSu4jm"
      },
      "source": [
        "#2 Armado del ambiente"
      ]
    },
    {
      "cell_type": "markdown",
      "metadata": {
        "id": "RQWKrgIZu6zg"
      },
      "source": [
        "No son necesarios, ejecuciones previas del armado del ambiente."
      ]
    },
    {
      "cell_type": "markdown",
      "metadata": {
        "id": "GRufLHAwu8RM"
      },
      "source": [
        "#3 Desarrollo"
      ]
    },
    {
      "cell_type": "code",
      "metadata": {
        "id": "cdpzMp7Wu-Hp",
        "colab": {
          "base_uri": "https://localhost:8080/"
        },
        "outputId": "98c9cbf0-a993-459b-d67f-633fdf62dd01"
      },
      "source": [
        "#@title Parametros: { vertical-output: true, display-mode: \"both\" }\n",
        "ordenMatriz =  #@param {type:\"number\"}\n",
        "\n",
        "from datetime import datetime\n",
        "import threading\n",
        "import numpy\n",
        "import queue\n",
        "\n",
        "tiempoTotal = datetime.now()\n",
        "\n",
        "tiempo_en_ms = lambda dt:(dt.days * 24 * 60 * 60 + dt.seconds) * 1000 + dt.microseconds / 1000.0\n",
        "try:\n",
        "  cola1 = queue.Queue()\n",
        "  cola2 = queue.Queue()\n",
        "\n",
        "  def operacionesMatriz1(matriz,nombre,ordenMatriz):\n",
        "    print(\"hola soy:\",nombre)\n",
        "    print(matriz)\n",
        "    for i in range(0,ordenMatriz):\n",
        "      for j in range(0,ordenMatriz):\n",
        "        cola1.put(matriz[i][j])\n",
        "\n",
        "  def operacionesMatriz2(matriz,nombre,ordenMatriz):\n",
        "    print(\"hola soy:\",nombre)\n",
        "    print(matriz)\n",
        "    for i in range(0,ordenMatriz):\n",
        "      for j in range(0,ordenMatriz):\n",
        "        cola2.put(matriz[i][j])\n",
        "\n",
        "  matriz1 = numpy.random.random((ordenMatriz,ordenMatriz))\n",
        "  matriz1 = matriz1.astype(numpy.float32())\n",
        "  matriz2 = numpy.random.random((ordenMatriz,ordenMatriz))\n",
        "  matriz2 = matriz2.astype(numpy.float32())\n",
        "  matrizR = numpy.empty_like(matriz1)\n",
        "\n",
        "  thread1 = threading.Thread(target=operacionesMatriz1,args=(matriz1,\"hilo1\",ordenMatriz,))\n",
        "  thread1.start()\n",
        "\n",
        "  thread2 = threading.Thread(target=operacionesMatriz2,args=(matriz2,\"hilo2\",ordenMatriz,))\n",
        "  thread2.start()\n",
        "  thread2.join()\n",
        "\n",
        "  print(\"\")\n",
        "  print(\"Soy el hilo principal y voy a hacer el calculo de la suma de matrices\")\n",
        "  print(\"\")\n",
        "  for i in range(0,ordenMatriz):\n",
        "    for j in range(0,ordenMatriz):\n",
        "        numeroM1 = cola1.get()\n",
        "        numeroM2 = cola2.get()\n",
        "        matrizR[i][j] = (numeroM1+numeroM2)\n",
        "\n",
        "  tiempoTotal = datetime.now() - tiempoTotal\n",
        "\n",
        "  print(\"Matriz Resultado de la suma: \")\n",
        "  print(matrizR)\n",
        "  print(\"\")\n",
        "  print(\"Tiempo Total: \",tiempo_en_ms(tiempoTotal),\"[ms]\")\n",
        "\n",
        "except ValueError:\n",
        "  print(\"se ha ingresado un numero de orden menor a 0\")\n",
        "  print(\"ingrese un numero de orden de la matriz igual o mayor a 0\")\n"
      ],
      "execution_count": 17,
      "outputs": [
        {
          "output_type": "stream",
          "text": [
            "hola soy:hola soy: hilo2\n",
            " hilo1[[0.43295136 0.05331363 0.1634922  ... 0.88171923 0.8889116  0.11814816]\n",
            " [0.6318692  0.44612226 0.37465385 ... 0.02472186 0.39573568 0.15067437]\n",
            " [0.83002746 0.4696359  0.7987387  ... 0.76341695 0.28646576 0.17723168]\n",
            " ...\n",
            " [0.32404238 0.7472796  0.5661467  ... 0.29974464 0.7296248  0.22886483]\n",
            " [0.0924739  0.153247   0.66189957 ... 0.07616069 0.7137064  0.94027954]\n",
            " [0.44962704 0.831618   0.5982383  ... 0.80603546 0.10723941 0.8530909 ]]\n",
            "\n",
            "[[0.7968799  0.69426376 0.3581042  ... 0.14713463 0.56093574 0.58747715]\n",
            " [0.23858441 0.9860165  0.56435734 ... 0.43881136 0.5712752  0.99246013]\n",
            " [0.9556674  0.24197043 0.42905012 ... 0.03798871 0.3638672  0.8544714 ]\n",
            " ...\n",
            " [0.4371943  0.97784305 0.47951266 ... 0.28249145 0.2960809  0.79647887]\n",
            " [0.9429526  0.28920904 0.401014   ... 0.97755927 0.5723605  0.13437681]\n",
            " [0.15926395 0.05826841 0.61664426 ... 0.9377772  0.17433815 0.8139419 ]]\n",
            "\n",
            "Soy el hilo principal y voy a hacer el calculo de la suma de matrices\n",
            "\n",
            "Matriz Resultado de la suma: \n",
            "[[1.2298312  0.74757737 0.52159643 ... 1.0288539  1.4498473  0.7056253 ]\n",
            " [0.8704536  1.4321388  0.9390112  ... 0.46353322 0.96701086 1.1431345 ]\n",
            " [1.7856948  0.7116063  1.2277888  ... 0.80140567 0.6503329  1.0317031 ]\n",
            " ...\n",
            " [0.76123667 1.7251227  1.0456593  ... 0.58223605 1.0257057  1.0253437 ]\n",
            " [1.0354265  0.44245604 1.0629135  ... 1.05372    1.2860669  1.0746564 ]\n",
            " [0.608891   0.88988644 1.2148826  ... 1.7438127  0.28157756 1.6670327 ]]\n",
            "\n",
            "Tiempo Total:  8875.773 [ms]\n"
          ],
          "name": "stdout"
        }
      ]
    },
    {
      "cell_type": "markdown",
      "metadata": {
        "id": "6nBy94hWvBaJ"
      },
      "source": [
        "\n",
        " Procesador | Funciòn | Detalle\n",
        "------------|---------|----------\n",
        "CPU      |  @param                | Lectura del tamaño del vector desde Colab.\n",
        "CPU      |  import                | Importa los módulos para funcionar.\n",
        "CPU      |  datetime.now()        | Toma el tiempo actual.\n",
        "CPU      |  numpy.random.randn( ordenMatriz ) | Inicializa las matrices\n",
        "**GPU**  |  cuda.mem_alloc()      | Reserva la memoria en GPU.\n",
        "**GPU**  |  cuda.memcpy_htod()    | Copia las memorias desde el CPU al GPU.\n",
        "CPU      |  SourceModule()        | Define el código del kernel donde se transpone la matriz\n",
        "CPU      |  module.get_function() | Genera la función del kernel GPU\n",
        "CPU      |  dim_hilo/dim_bloque   | Calcula las dimensiones.\n",
        "**GPU**  |  kernel()              | Ejecuta el kernel en GPU\n",
        "CPU      |  cuda.memcpy_dtoh( )   | Copia el resultado desde GPU memoria A a CPU memoria R.\n",
        "CPU      |  print()               | Informo los resultados."
      ]
    },
    {
      "cell_type": "markdown",
      "metadata": {
        "id": "MSlfGhoXvB9U"
      },
      "source": [
        "#5 Conclusiones"
      ]
    },
    {
      "cell_type": "markdown",
      "metadata": {
        "id": "N_q54RcgvEHq"
      },
      "source": [
        ""
      ]
    },
    {
      "cell_type": "markdown",
      "metadata": {
        "id": "Yq9Z5J07vEho"
      },
      "source": [
        "#6 Bibliografia"
      ]
    },
    {
      "cell_type": "markdown",
      "metadata": {
        "id": "fCxoyZcivGO8"
      },
      "source": [
        ""
      ]
    }
  ]
}