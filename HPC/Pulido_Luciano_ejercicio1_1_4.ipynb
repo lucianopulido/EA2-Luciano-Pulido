{
  "nbformat": 4,
  "nbformat_minor": 0,
  "metadata": {
    "colab": {
      "name": "Pulido_Luciano_ejercicio1_1_4_GPU.ipynb",
      "provenance": [],
      "collapsed_sections": []
    },
    "kernelspec": {
      "name": "python3",
      "display_name": "Python 3"
    },
    "accelerator": "GPU"
  },
  "cells": [
    {
      "cell_type": "markdown",
      "metadata": {
        "id": "k2kJD_Iluus8"
      },
      "source": [
        "#1 Introducción"
      ]
    },
    {
      "cell_type": "markdown",
      "metadata": {
        "id": "LdGhm4yUu3Am"
      },
      "source": [
        ""
      ]
    },
    {
      "cell_type": "markdown",
      "metadata": {
        "id": "jNpnBkgSu4jm"
      },
      "source": [
        "#2 Armado del ambiente"
      ]
    },
    {
      "cell_type": "markdown",
      "metadata": {
        "id": "RQWKrgIZu6zg"
      },
      "source": [
        ""
      ]
    },
    {
      "cell_type": "code",
      "metadata": {
        "id": "cdpzMp7Wu-Hp"
      },
      "source": [
        "\n",
        "\n",
        "codigo = \"\"\"\n",
        "#include <string.h>\n",
        "#include <stdio.h>\n",
        "#include <mpi.h>\n",
        "\n",
        "int main(int argc, char** argv)\n",
        "{\n",
        "  int rank;\n",
        "  int cantidadProcesos;\n",
        "  int tag = 1;\n",
        "  char mensaje[100];\n",
        "  MPI_Status status;\n",
        "\n",
        "  MPI_Init(NULL,NULL);\n",
        "\n",
        "  MPI_Comm_rank(MPI_COMM_WORLD,&rank);\n",
        "  MPI_Comm_size(MPI_COMM_WORLD,&cantidadProcesos);\n",
        "\n",
        "  if(rank!=0)\n",
        "  {\n",
        "    int dest = 0;\n",
        "    sprintf(mensaje,\"hola mundo soy el thread %d de %d\",rank,cantidadProcesos);\n",
        "    MPI_Send(&mensaje,strlen(mensaje)+1,MPI_CHAR,dest,tag,MPI_COMM_WORLD);\n",
        "  }\n",
        "  else\n",
        "  {\n",
        "    for(int i=1;i<cantidadProcesos;i++)\n",
        "    {\n",
        "      MPI_Recv(&mensaje,100,MPI_CHAR,i,tag,MPI_COMM_WORLD,&status);\n",
        "      printf(\"%s\\\\n\",mensaje);\n",
        "    }\n",
        "  }\n",
        "\n",
        "  MPI_Finalize();\n",
        "}\n",
        "\n",
        "\"\"\"\n",
        "\n",
        "file = open('hello.c', 'w')\n",
        "file.write(codigo)\n",
        "file.close()\n"
      ],
      "execution_count": 1,
      "outputs": []
    },
    {
      "cell_type": "code",
      "metadata": {
        "id": "E_6Fq3KPuqCf"
      },
      "source": [
        "! mpicc -o hello hello.c"
      ],
      "execution_count": 2,
      "outputs": []
    },
    {
      "cell_type": "code",
      "metadata": {
        "id": "XkJS1oQsvxIw",
        "outputId": "278ae222-ebaf-4c4f-ec6f-6d6027a845d2",
        "colab": {
          "base_uri": "https://localhost:8080/"
        }
      },
      "source": [
        "!mpirun --allow-run-as-root -n 3 hello"
      ],
      "execution_count": 5,
      "outputs": [
        {
          "output_type": "stream",
          "text": [
            "hola mundo soy el thread 1 de 100\n",
            "hola mundo soy el thread 2 de 100\n",
            "hola mundo soy el thread 3 de 100\n",
            "hola mundo soy el thread 4 de 100\n",
            "hola mundo soy el thread 5 de 100\n",
            "hola mundo soy el thread 6 de 100\n",
            "hola mundo soy el thread 7 de 100\n",
            "hola mundo soy el thread 8 de 100\n",
            "hola mundo soy el thread 9 de 100\n",
            "hola mundo soy el thread 10 de 100\n",
            "hola mundo soy el thread 11 de 100\n",
            "hola mundo soy el thread 12 de 100\n",
            "hola mundo soy el thread 13 de 100\n",
            "hola mundo soy el thread 14 de 100\n",
            "hola mundo soy el thread 15 de 100\n",
            "hola mundo soy el thread 16 de 100\n",
            "hola mundo soy el thread 17 de 100\n",
            "hola mundo soy el thread 18 de 100\n",
            "hola mundo soy el thread 19 de 100\n",
            "hola mundo soy el thread 20 de 100\n",
            "hola mundo soy el thread 21 de 100\n",
            "hola mundo soy el thread 22 de 100\n",
            "hola mundo soy el thread 23 de 100\n",
            "hola mundo soy el thread 24 de 100\n",
            "hola mundo soy el thread 25 de 100\n",
            "hola mundo soy el thread 26 de 100\n",
            "hola mundo soy el thread 27 de 100\n",
            "hola mundo soy el thread 28 de 100\n",
            "hola mundo soy el thread 29 de 100\n",
            "hola mundo soy el thread 30 de 100\n",
            "hola mundo soy el thread 31 de 100\n",
            "hola mundo soy el thread 32 de 100\n",
            "hola mundo soy el thread 33 de 100\n",
            "hola mundo soy el thread 34 de 100\n",
            "hola mundo soy el thread 35 de 100\n",
            "hola mundo soy el thread 36 de 100\n",
            "hola mundo soy el thread 37 de 100\n",
            "hola mundo soy el thread 38 de 100\n",
            "hola mundo soy el thread 39 de 100\n",
            "hola mundo soy el thread 40 de 100\n",
            "hola mundo soy el thread 41 de 100\n",
            "hola mundo soy el thread 42 de 100\n",
            "hola mundo soy el thread 43 de 100\n",
            "hola mundo soy el thread 44 de 100\n",
            "hola mundo soy el thread 45 de 100\n",
            "hola mundo soy el thread 46 de 100\n",
            "hola mundo soy el thread 47 de 100\n",
            "hola mundo soy el thread 48 de 100\n",
            "hola mundo soy el thread 49 de 100\n",
            "hola mundo soy el thread 50 de 100\n",
            "hola mundo soy el thread 51 de 100\n",
            "hola mundo soy el thread 52 de 100\n",
            "hola mundo soy el thread 53 de 100\n",
            "hola mundo soy el thread 54 de 100\n",
            "hola mundo soy el thread 55 de 100\n",
            "hola mundo soy el thread 56 de 100\n",
            "hola mundo soy el thread 57 de 100\n",
            "hola mundo soy el thread 58 de 100\n",
            "hola mundo soy el thread 59 de 100\n",
            "hola mundo soy el thread 60 de 100\n",
            "hola mundo soy el thread 61 de 100\n",
            "hola mundo soy el thread 62 de 100\n",
            "hola mundo soy el thread 63 de 100\n",
            "hola mundo soy el thread 64 de 100\n",
            "hola mundo soy el thread 65 de 100\n",
            "hola mundo soy el thread 66 de 100\n",
            "hola mundo soy el thread 67 de 100\n",
            "hola mundo soy el thread 68 de 100\n",
            "hola mundo soy el thread 69 de 100\n",
            "hola mundo soy el thread 70 de 100\n",
            "hola mundo soy el thread 71 de 100\n",
            "hola mundo soy el thread 72 de 100\n",
            "hola mundo soy el thread 73 de 100\n",
            "hola mundo soy el thread 74 de 100\n",
            "hola mundo soy el thread 75 de 100\n",
            "hola mundo soy el thread 76 de 100\n",
            "hola mundo soy el thread 77 de 100\n",
            "hola mundo soy el thread 78 de 100\n",
            "hola mundo soy el thread 79 de 100\n",
            "hola mundo soy el thread 80 de 100\n",
            "hola mundo soy el thread 81 de 100\n",
            "hola mundo soy el thread 82 de 100\n",
            "hola mundo soy el thread 83 de 100\n",
            "hola mundo soy el thread 84 de 100\n",
            "hola mundo soy el thread 85 de 100\n",
            "hola mundo soy el thread 86 de 100\n",
            "hola mundo soy el thread 87 de 100\n",
            "hola mundo soy el thread 88 de 100\n",
            "hola mundo soy el thread 89 de 100\n",
            "hola mundo soy el thread 90 de 100\n",
            "hola mundo soy el thread 91 de 100\n",
            "hola mundo soy el thread 92 de 100\n",
            "hola mundo soy el thread 93 de 100\n",
            "hola mundo soy el thread 94 de 100\n",
            "hola mundo soy el thread 95 de 100\n",
            "hola mundo soy el thread 96 de 100\n",
            "hola mundo soy el thread 97 de 100\n",
            "hola mundo soy el thread 98 de 100\n",
            "hola mundo soy el thread 99 de 100\n"
          ],
          "name": "stdout"
        }
      ]
    },
    {
      "cell_type": "markdown",
      "metadata": {
        "id": "GRufLHAwu8RM"
      },
      "source": [
        "#3 Desarrollo"
      ]
    },
    {
      "cell_type": "markdown",
      "metadata": {
        "id": "a46mjPVau-ZT"
      },
      "source": [
        "#4 Tabla de pasos"
      ]
    },
    {
      "cell_type": "markdown",
      "metadata": {
        "id": "6nBy94hWvBaJ"
      },
      "source": [
        ""
      ]
    },
    {
      "cell_type": "markdown",
      "metadata": {
        "id": "MSlfGhoXvB9U"
      },
      "source": [
        "#5 Conclusiones"
      ]
    },
    {
      "cell_type": "markdown",
      "metadata": {
        "id": "N_q54RcgvEHq"
      },
      "source": [
        ""
      ]
    },
    {
      "cell_type": "markdown",
      "metadata": {
        "id": "Yq9Z5J07vEho"
      },
      "source": [
        "#6 Bibliografia"
      ]
    },
    {
      "cell_type": "markdown",
      "metadata": {
        "id": "fCxoyZcivGO8"
      },
      "source": [
        ""
      ]
    }
  ]
}