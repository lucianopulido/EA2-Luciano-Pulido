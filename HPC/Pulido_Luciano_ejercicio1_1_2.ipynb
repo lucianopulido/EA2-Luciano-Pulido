{
  "nbformat": 4,
  "nbformat_minor": 0,
  "metadata": {
    "colab": {
      "name": "Pulido_Luciano_ejercicio1_1_2.ipynb",
      "provenance": [],
      "collapsed_sections": []
    },
    "kernelspec": {
      "name": "python3",
      "display_name": "Python 3"
    }
  },
  "cells": [
    {
      "cell_type": "markdown",
      "metadata": {
        "id": "zKX7GvL9j9mD"
      },
      "source": [
        "#1 Introducción"
      ]
    },
    {
      "cell_type": "markdown",
      "metadata": {
        "id": "98sXQwESkGcl"
      },
      "source": [
        "El siguiente cuadernos realiza la busqueda de un número entero para la version secuencial utilizando solo procesador CPU. En la versión que se utiliza paralelismo utilizando la GPU  también se realiza una busqueda de un número flotante.\n",
        "\n",
        "El objetivo es comparar los tiempos de ejecución de ambas versiones del algoritmo de busqueda."
      ]
    },
    {
      "cell_type": "markdown",
      "metadata": {
        "id": "mt9-iCxGkHzT"
      },
      "source": [
        "#2 Armado del ambiente"
      ]
    },
    {
      "cell_type": "markdown",
      "metadata": {
        "id": "5xx33348kQZJ"
      },
      "source": [
        "Instala en el cuaderno el módulo CUDA de Python. Esto debe ejecutarse solamente para la version que utiliza paralelismo usando la GPU\n"
      ]
    },
    {
      "cell_type": "code",
      "metadata": {
        "id": "01kXZielcvMj",
        "outputId": "527a2420-9143-490d-e91c-d32b8315add3",
        "colab": {
          "base_uri": "https://localhost:8080/"
        }
      },
      "source": [
        "!pip install pycuda"
      ],
      "execution_count": null,
      "outputs": [
        {
          "output_type": "stream",
          "text": [
            "Collecting pycuda\n",
            "\u001b[?25l  Downloading https://files.pythonhosted.org/packages/46/61/47d3235a4c13eec5a5f03594ddb268f4858734e02980afbcd806e6242fa5/pycuda-2020.1.tar.gz (1.6MB)\n",
            "\u001b[K     |████████████████████████████████| 1.6MB 20.6MB/s \n",
            "\u001b[?25hCollecting pytools>=2011.2\n",
            "\u001b[?25l  Downloading https://files.pythonhosted.org/packages/b7/30/c9362a282ef89106768cba9d884f4b2e4f5dc6881d0c19b478d2a710b82b/pytools-2020.4.3.tar.gz (62kB)\n",
            "\u001b[K     |████████████████████████████████| 71kB 11.6MB/s \n",
            "\u001b[?25hRequirement already satisfied: decorator>=3.2.0 in /usr/local/lib/python3.6/dist-packages (from pycuda) (4.4.2)\n",
            "Collecting appdirs>=1.4.0\n",
            "  Downloading https://files.pythonhosted.org/packages/3b/00/2344469e2084fb287c2e0b57b72910309874c3245463acd6cf5e3db69324/appdirs-1.4.4-py2.py3-none-any.whl\n",
            "Collecting mako\n",
            "\u001b[?25l  Downloading https://files.pythonhosted.org/packages/a6/37/0e706200d22172eb8fa17d68a7ae22dec7631a0a92266634fb518a88a5b2/Mako-1.1.3-py2.py3-none-any.whl (75kB)\n",
            "\u001b[K     |████████████████████████████████| 81kB 12.6MB/s \n",
            "\u001b[?25hRequirement already satisfied: six>=1.8.0 in /usr/local/lib/python3.6/dist-packages (from pytools>=2011.2->pycuda) (1.15.0)\n",
            "Requirement already satisfied: numpy>=1.6.0 in /usr/local/lib/python3.6/dist-packages (from pytools>=2011.2->pycuda) (1.18.5)\n",
            "Requirement already satisfied: dataclasses>=0.7 in /usr/local/lib/python3.6/dist-packages (from pytools>=2011.2->pycuda) (0.7)\n",
            "Requirement already satisfied: MarkupSafe>=0.9.2 in /usr/local/lib/python3.6/dist-packages (from mako->pycuda) (1.1.1)\n",
            "Building wheels for collected packages: pycuda, pytools\n",
            "  Building wheel for pycuda (setup.py) ... \u001b[?25l\u001b[?25hdone\n",
            "  Created wheel for pycuda: filename=pycuda-2020.1-cp36-cp36m-linux_x86_64.whl size=621010 sha256=943b9efd84583f3c15acba956d60a5b589fde5019c76f30125fdf4cd50dd0df1\n",
            "  Stored in directory: /root/.cache/pip/wheels/8f/78/d1/5bb826f81d9d490297a348d818ff3ee6dd6f2075b06dde6ea0\n",
            "  Building wheel for pytools (setup.py) ... \u001b[?25l\u001b[?25hdone\n",
            "  Created wheel for pytools: filename=pytools-2020.4.3-py2.py3-none-any.whl size=61374 sha256=c9bf0e89a0301f975c9ae34e7d865a087c6f6ceed3f4f9d89e8fccbeb3c98f96\n",
            "  Stored in directory: /root/.cache/pip/wheels/af/c7/81/a22edb90b0b09a880468b2253bb1df8e9f503337ee15432c64\n",
            "Successfully built pycuda pytools\n",
            "Installing collected packages: appdirs, pytools, mako, pycuda\n",
            "Successfully installed appdirs-1.4.4 mako-1.1.3 pycuda-2020.1 pytools-2020.4.3\n"
          ],
          "name": "stdout"
        }
      ]
    },
    {
      "cell_type": "markdown",
      "metadata": {
        "id": "uqabyBOSkSfH"
      },
      "source": [
        "#3 Desarrollo"
      ]
    },
    {
      "cell_type": "markdown",
      "metadata": {
        "id": "3wewUoFGkUUa"
      },
      "source": [
        "Ejecuta el Código CPU secuencial"
      ]
    },
    {
      "cell_type": "code",
      "metadata": {
        "id": "2bSmA1nbj6pu",
        "outputId": "78c07a2c-5bca-4cd6-be40-eef8fbdc2550",
        "colab": {
          "base_uri": "https://localhost:8080/"
        }
      },
      "source": [
        "from  datetime import datetime\n",
        "\n",
        "numeroEncontrado = 0\n",
        "\n",
        "vectorCpu = [1,2,3,4,5]\n",
        "print(\"vector con numeros:\")\n",
        "print(vectorCpu)\n",
        "\n",
        "\n",
        "\n",
        "print(\"Ingrese un numero a buscar:\")\n",
        "numeroBuscado = input()\n",
        "\n",
        "\n",
        "for i in range(0,5):\n",
        "  if vectorCpu[i] == int(numeroBuscado):\n",
        "    numeroEncontrado=1\n",
        "\n",
        "    \n",
        "\n",
        "if numeroEncontrado == 1:\n",
        "  print(\"El numero ha sido encontrado\")\n",
        "else:\n",
        "    print(\"El numero no ha sido encontrado\")\n"
      ],
      "execution_count": null,
      "outputs": [
        {
          "output_type": "stream",
          "text": [
            "vector con numeros:\n",
            "[1, 2, 3, 4, 5]\n",
            "Ingrese un numero a buscar:\n",
            "2\n",
            "El numero ha sido encontrado\n"
          ],
          "name": "stdout"
        }
      ]
    },
    {
      "cell_type": "markdown",
      "metadata": {
        "id": "WLeBehRplARd"
      },
      "source": [
        "Ejecuta el Código CPU - GPU aplicando paralelismo"
      ]
    },
    {
      "cell_type": "code",
      "metadata": {
        "id": "DmSIp3Xyc6bq"
      },
      "source": [
        "#@title Parametros { display-mode: \"form\" }\n",
        "numeroElementos =  0#@param {type:\"number\"}\n",
        "numeroBuscado = 0 #@param {type:\"number\"}\n",
        "import pycuda.driver as cuda\n",
        "import pycuda.autoinit\n",
        "from   pycuda.compiler import SourceModule\n",
        "\n",
        "from  datetime import datetime\n",
        "import numpy\n",
        "\n",
        "\n",
        "\n",
        "# CPU - Defino la memoria del vector en cpu.\n",
        "vectorCpu = numpy.random.randn(numeroElementos)\n",
        "vectorCpu = vectorCpu.astype(numpy.float32())\n",
        "print(\"vector con numeros:\")\n",
        "print(vectorCpu)\n",
        "\n",
        "# CPU - reservo la memoria GPU.\n",
        "vectorGpu = cuda.mem_alloc(vectorCpu.nbytes)\n",
        "\n",
        "# GPU - Copio la memoria al GPU.\n",
        "cuda.memcpy_htod(vectorGpu,vectorCpu)\n",
        "\n",
        "# CPU - ingreso el numero a buscar\n",
        "print(\"Ingrese un numero a buscar:\")\n",
        "numeroBuscado = input()\n",
        "\n",
        "#CPU - Defino la funcion kernel que ejecutará en GPU\n",
        "module = SourceModule(\"\"\"\n",
        "__global__ void buscarNumero(int n,float numeroBuscado ,float *pvector1)\n",
        "{\n",
        "    int idx = threadIdx.x + blockIdx.x*blockDim.x;\n",
        "    \n",
        "    \n",
        "\n",
        "    if(idx<n)\n",
        "    {\n",
        "      if(pvector1[idx] == numeroBuscado)\n",
        "      {\n",
        "          pvector1[0] = 1;\n",
        "      }\n",
        "    }\n",
        "}\n",
        "\n",
        "\"\"\")\n",
        "\n",
        "kernel = module.get_function(\"buscarNumero\")\n",
        "\n",
        "dim_hilo = 256\n",
        "dim_bloque = numpy.int( (n+dim_hilo-1) / dim_hilo )\n",
        "print( \"Thread x: \", dim_hilo, \", Bloque x:\", dim_bloque )\n",
        "\n",
        "kernel( numpy.int32(n),numpy.float32(numeroBuscado), vectorGpu, block=( dim_hilo, 1, 1 ),grid=(dim_bloque, 1,1) )\n",
        "\n",
        "cuda.memcpy_dtoh(vectorCpu,vectorGpu)\n",
        "\n",
        "print(\"vector con numeros final:\")\n",
        "print(vectorCpu)\n",
        "\n",
        "if vectorCpu[0]== 1:\n",
        "  print(\"El numero ha sido encontrado\")\n",
        "else:\n",
        "    print(\"El numero no ha sido encontrado\")"
      ],
      "execution_count": null,
      "outputs": []
    },
    {
      "cell_type": "markdown",
      "metadata": {
        "id": "R3ybCoH1kXuQ"
      },
      "source": [
        "#4 Tabla de pasos de ejecución del programa"
      ]
    },
    {
      "cell_type": "markdown",
      "metadata": {
        "id": "e49KhuGgkhbf"
      },
      "source": [
        "\n",
        "\n",
        " Procesador | Funciòn | Detalle\n",
        "------------|---------|----------\n",
        "CPU      |  @param                | Lectura del tamaño de vectores desde Colab.\n",
        "CPU      |  import                | Importa los módulos para funcionar.\n",
        "CPU      |  datetime.now()        | Toma el tiempo actual.\n",
        "CPU      |  numpy.random.randn( Cantidad_N ) | Inicializa los vectoes A, B y R.\n",
        "**GPU**  |  cuda.mem_alloc()      | Reserva la memoria en GPU.\n",
        "**GPU**  |  cuda.memcpy_htod()    | Copia las memorias desde el CPU al GPU.\n",
        "CPU      |  SourceModule()        | Define el código del kernel \n",
        "CPU      |  module.get_function() | Genera la función del kernel GPU\n",
        "CPU      |  dim_tx/dim_bx         | Calcula las dimensiones.\n",
        "**GPU**  |  kernel()              | Ejecuta el kernel en GPU\n",
        "CPU      |  cuda.memcpy_dtoh( )   | Copia el resultado desde GPU memoria A a CPU memoria R.\n",
        "CPU      |  print()               | Informo los resultados.\n",
        "\n"
      ]
    },
    {
      "cell_type": "markdown",
      "metadata": {
        "id": "Jsv-oNcekiAc"
      },
      "source": [
        "#5 Conclusiones"
      ]
    },
    {
      "cell_type": "markdown",
      "metadata": {
        "id": "mxYRDL0ekl_x"
      },
      "source": [
        ""
      ]
    },
    {
      "cell_type": "markdown",
      "metadata": {
        "id": "yb3TKcl4kpZs"
      },
      "source": [
        "#6 Bibliografia"
      ]
    },
    {
      "cell_type": "markdown",
      "metadata": {
        "id": "eSJdU3ZIksYp"
      },
      "source": [
        ""
      ]
    }
  ]
}