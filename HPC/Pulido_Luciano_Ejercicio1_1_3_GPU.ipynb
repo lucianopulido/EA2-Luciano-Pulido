{
  "nbformat": 4,
  "nbformat_minor": 0,
  "metadata": {
    "colab": {
      "name": "Pulido_Luciano_Ejercicio1_1_3_GPU.ipynb",
      "provenance": [],
      "collapsed_sections": []
    },
    "kernelspec": {
      "name": "python3",
      "display_name": "Python 3"
    },
    "accelerator": "GPU"
  },
  "cells": [
    {
      "cell_type": "markdown",
      "metadata": {
        "id": "1OeRknPGL5j9"
      },
      "source": [
        "#1 Introducción"
      ]
    },
    {
      "cell_type": "markdown",
      "metadata": {
        "id": "XID43y6qMTiJ"
      },
      "source": [
        "\n",
        "En el siguiente cuaderno obtenemos la matriz transpuesta de una matriz de números flotantes de manera secuencial utilizando solo procesador CPU.\n",
        "\n",
        "El objetivo es comparar los tiempos de ejecución de ambas versiones (secuencial vs paralelismo) del algoritmo que obtiene la matriz transpuesta."
      ]
    },
    {
      "cell_type": "markdown",
      "metadata": {
        "id": "ws8FMRkOL1fa"
      },
      "source": [
        "#2 Preparado del ambiente"
      ]
    },
    {
      "cell_type": "markdown",
      "metadata": {
        "id": "yFJCk97VzFeH"
      },
      "source": [
        "Instala en el cuaderno el módulo CUDA de Python."
      ]
    },
    {
      "cell_type": "code",
      "metadata": {
        "id": "KvA7Usust8hP",
        "colab": {
          "base_uri": "https://localhost:8080/"
        },
        "outputId": "4553545c-347a-4590-9759-61cef80726f9"
      },
      "source": [
        "!pip install pycuda"
      ],
      "execution_count": null,
      "outputs": [
        {
          "output_type": "stream",
          "text": [
            "Collecting pycuda\n",
            "\u001b[?25l  Downloading https://files.pythonhosted.org/packages/46/61/47d3235a4c13eec5a5f03594ddb268f4858734e02980afbcd806e6242fa5/pycuda-2020.1.tar.gz (1.6MB)\n",
            "\u001b[K     |████████████████████████████████| 1.6MB 8.5MB/s \n"
          ],
          "name": "stdout"
        }
      ]
    },
    {
      "cell_type": "markdown",
      "metadata": {
        "id": "GDY75qvrMBJy"
      },
      "source": [
        "#3 Desarrollo"
      ]
    },
    {
      "cell_type": "code",
      "metadata": {
        "id": "ycSUvt1HMPGS",
        "colab": {
          "base_uri": "https://localhost:8080/"
        },
        "outputId": "6c6d4805-6edb-49c4-f2a8-d4f9247d101d"
      },
      "source": [
        "#@title Parametros { vertical-output: true, display-mode: \"both\" }\n",
        "ordenMatriz =  5#@param {type:\"number\"}\n",
        "try:\n",
        "  from datetime import datetime\n",
        "  tiempo_total = datetime.now()\n",
        "\n",
        "  import pycuda.driver as cuda\n",
        "  import pycuda.autoinit\n",
        "  from   pycuda.compiler import SourceModule\n",
        "  import numpy\n",
        "\n",
        "  # Definición de función que transforma el tiempo en  milisegundos\n",
        "  tiempo_en_ms = lambda dt:(dt.days * 24 * 60 * 60 + dt.seconds) * 1000 + dt.microseconds / 1000.0\n",
        "  \n",
        "  # CPU - Defino la memoria de las matrices en cpu.\n",
        "  matriz = numpy.random.random((ordenMatriz,ordenMatriz))\n",
        "  matriz = matriz.astype(numpy.float32())\n",
        "\n",
        "  matrizT = numpy.empty_like(matriz)\n",
        "\n",
        "  # CPU - reservo la memoria GPU.\n",
        "  matrizGpu = cuda.mem_alloc(matriz.nbytes)\n",
        "  matriztGpu = cuda.mem_alloc(matrizT.nbytes)\n",
        "\n",
        "  # GPU - Copio la memoria al GPU.\n",
        "  cuda.memcpy_htod(matrizGpu,matriz)\n",
        "  cuda.memcpy_htod(matriztGpu,matrizT)\n",
        "\n",
        "  #CPU - Defino la funcion kernel que ejecutará en GPU\n",
        "  module = SourceModule(\"\"\"\n",
        "  __global__ void transponer(int n, float *matriz ,float *matrizT ,float *pvector1)\n",
        "  {\n",
        "      int idx = threadIdx.x + blockIdx.x*blockDim.x;\n",
        "      int idy = threadIdx.y + blockIdx.y*blockDim.y;\n",
        "      \n",
        "      \n",
        "\n",
        "      if(idx<n && idy<n)\n",
        "      {\n",
        "        matrizT[idy*n+idx] = matriz[idx*n+idy];\n",
        "      }\n",
        "  }\n",
        "\n",
        "  \"\"\")\n",
        "\n",
        "  kernel = module.get_function(\"transponer\")\n",
        "\n",
        "  tiempo_gpu = datetime.now()\n",
        "\n",
        "  dim_hilo_x = 16\n",
        "  dim_bloque_x = numpy.int( (ordenMatriz+dim_hilo_x-1) / dim_hilo_x )\n",
        "\n",
        "  dim_hilo_y = 16\n",
        "  dim_bloque_y = numpy.int( (ordenMatriz+dim_hilo_y-1) / dim_hilo_y )\n",
        "\n",
        "  print( \"Thread x: \", dim_hilo_x, \", Bloque x:\", dim_bloque_x )\n",
        "  print( \"Thread y: \", dim_hilo_y, \", Bloque y:\", dim_bloque_y )\n",
        "\n",
        "  kernel( numpy.int32(ordenMatriz), matrizGpu ,matriztGpu, block=( dim_hilo_x, dim_hilo_y, 1 ),grid=(dim_bloque_x, dim_bloque_y,1) )\n",
        "\n",
        "  tiempo_gpu = datetime.now() - tiempo_gpu\n",
        "\n",
        "  cuda.memcpy_dtoh(matrizT,matriztGpu)\n",
        "\n",
        "  tiempo_total = datetime.now() - tiempo_total\n",
        "\n",
        "  print(\"matriz original: \")\n",
        "  print(matriz)\n",
        "  print(\"\")\n",
        "  print(\"matriz transpuesta: \")\n",
        "  print(matrizT)\n",
        "  print(\"\")\n",
        "  print(\"Tiempo CPU: \", tiempo_en_ms( tiempo_total ), \"[ms]\" )\n",
        "  print(\"Tiempo GPU: \", tiempo_en_ms( tiempo_total ), \"[ms]\" )\n",
        "except ModuleNotFoundError :\n",
        "      print(\"No se compilo el código del armado del ambiente\")\n",
        "      print(\"Compile el armado del ambiente y vuelva a intentarlo\")\n",
        "except ValueError :\n",
        "  print(\"se ingreso un orden (tamaño de la matriz) menor a 0\")\n",
        "  print(\"ingrese un orden mayor a 0\")\n",
        "except pycuda.driver.LogicError:\n",
        "  print(\"Ha ingresado un orden de la matriz igual a 0 y CUDA no puede reservar una matriz de tamaño 0\")\n",
        "  print(\"ingrese un orden para la matriz mayor a 0\")\n",
        "      \n",
        " "
      ],
      "execution_count": null,
      "outputs": [
        {
          "output_type": "stream",
          "text": [
            "No se compilo el código del armado del ambiente\n",
            "Compile el armado del ambiente y vuelva a intentarlo\n"
          ],
          "name": "stdout"
        }
      ]
    },
    {
      "cell_type": "markdown",
      "metadata": {
        "id": "edYF9HRNMBeL"
      },
      "source": [
        "#4 Tabla de pasos"
      ]
    },
    {
      "cell_type": "markdown",
      "metadata": {
        "id": "qvBooRW7MVbF"
      },
      "source": [
        "\n",
        " Procesador | Funciòn | Detalle\n",
        "------------|---------|----------\n",
        "CPU      |  @param                | Lectura del tamaño del vector desde Colab.\n",
        "CPU      |  import                | Importa los módulos para funcionar.\n",
        "CPU      |  datetime.now()        | Toma el tiempo actual.\n",
        "CPU      |  numpy.random.randn( ordenMatriz ) | Inicializa las matrices\n",
        "**GPU**  |  cuda.mem_alloc()      | Reserva la memoria en GPU.\n",
        "**GPU**  |  cuda.memcpy_htod()    | Copia las memorias desde el CPU al GPU.\n",
        "CPU      |  SourceModule()        | Define el código del kernel donde se transpone la matriz\n",
        "CPU      |  module.get_function() | Genera la función del kernel GPU\n",
        "CPU      |  dim_hilo/dim_bloque   | Calcula las dimensiones.\n",
        "**GPU**  |  kernel()              | Ejecuta el kernel en GPU\n",
        "CPU      |  cuda.memcpy_dtoh( )   | Copia el resultado desde GPU memoria A a CPU memoria R.\n",
        "CPU      |  print()               | Informo los resultados."
      ]
    },
    {
      "cell_type": "markdown",
      "metadata": {
        "id": "WIi2z69MMBvT"
      },
      "source": [
        "#5 Conclusiones"
      ]
    },
    {
      "cell_type": "markdown",
      "metadata": {
        "id": "kmZIB03dMV4o"
      },
      "source": [
        ""
      ]
    },
    {
      "cell_type": "markdown",
      "metadata": {
        "id": "oLDS-ZLNMB8t"
      },
      "source": [
        "#6 Bibliografia"
      ]
    },
    {
      "cell_type": "markdown",
      "metadata": {
        "id": "UEnO2YVKMWZw"
      },
      "source": [
        "[1] MARKDOWN SYNTAX Colab:[PDF](https://github.com/wvaliente/SOA_HPC/blob/main/Documentos/markdown-cheatsheet-online.pdf)\n",
        "\n",
        "[2] Introducción a Python: [pagina colab](https://github.com/wvaliente/SOA_HPC/blob/main/Documentos/Python_Basico.ipynb)"
      ]
    }
  ]
}