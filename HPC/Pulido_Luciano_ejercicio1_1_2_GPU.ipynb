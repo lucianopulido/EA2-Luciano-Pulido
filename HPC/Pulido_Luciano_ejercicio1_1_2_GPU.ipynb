{
  "nbformat": 4,
  "nbformat_minor": 0,
  "metadata": {
    "colab": {
      "name": "Pulido_Luciano_ejercicio1_1_2_GPU.ipynb",
      "provenance": [],
      "collapsed_sections": []
    },
    "kernelspec": {
      "name": "python3",
      "display_name": "Python 3"
    },
    "accelerator": "GPU"
  },
  "cells": [
    {
      "cell_type": "markdown",
      "metadata": {
        "id": "3A6UFf0pUDoI"
      },
      "source": [
        "#1 Introducción"
      ]
    },
    {
      "cell_type": "markdown",
      "metadata": {
        "id": "koiiq2-PUJV8"
      },
      "source": [
        "El siguiente cuaderno realiza la busqueda de un número flotante utilizando paralelismo usando la CPU Y la GPU.\n",
        "\n",
        "El objetivo es comparar los tiempos de ejecución de ambas versiones del algoritmo de busqueda."
      ]
    },
    {
      "cell_type": "markdown",
      "metadata": {
        "id": "svmzrQGKUKjk"
      },
      "source": [
        "#2 Armado del ambiente"
      ]
    },
    {
      "cell_type": "markdown",
      "metadata": {
        "id": "BlxGq6UwUMan"
      },
      "source": [
        "Instala en el cuaderno el módulo CUDA de Python."
      ]
    },
    {
      "cell_type": "code",
      "metadata": {
        "id": "jp9uejrLT3qA",
        "colab": {
          "base_uri": "https://localhost:8080/"
        },
        "outputId": "a9f04dd0-3171-4233-9d4d-f314eb546e1c"
      },
      "source": [
        "!pip install pycuda"
      ],
      "execution_count": 2,
      "outputs": [
        {
          "output_type": "stream",
          "text": [
            "Collecting pycuda\n",
            "\u001b[?25l  Downloading https://files.pythonhosted.org/packages/46/61/47d3235a4c13eec5a5f03594ddb268f4858734e02980afbcd806e6242fa5/pycuda-2020.1.tar.gz (1.6MB)\n",
            "\u001b[K     |████████████████████████████████| 1.6MB 21.1MB/s \n",
            "\u001b[?25hCollecting pytools>=2011.2\n",
            "\u001b[?25l  Downloading https://files.pythonhosted.org/packages/b7/30/c9362a282ef89106768cba9d884f4b2e4f5dc6881d0c19b478d2a710b82b/pytools-2020.4.3.tar.gz (62kB)\n",
            "\u001b[K     |████████████████████████████████| 71kB 11.7MB/s \n",
            "\u001b[?25hRequirement already satisfied: decorator>=3.2.0 in /usr/local/lib/python3.6/dist-packages (from pycuda) (4.4.2)\n",
            "Collecting appdirs>=1.4.0\n",
            "  Downloading https://files.pythonhosted.org/packages/3b/00/2344469e2084fb287c2e0b57b72910309874c3245463acd6cf5e3db69324/appdirs-1.4.4-py2.py3-none-any.whl\n",
            "Collecting mako\n",
            "\u001b[?25l  Downloading https://files.pythonhosted.org/packages/a6/37/0e706200d22172eb8fa17d68a7ae22dec7631a0a92266634fb518a88a5b2/Mako-1.1.3-py2.py3-none-any.whl (75kB)\n",
            "\u001b[K     |████████████████████████████████| 81kB 12.2MB/s \n",
            "\u001b[?25hRequirement already satisfied: six>=1.8.0 in /usr/local/lib/python3.6/dist-packages (from pytools>=2011.2->pycuda) (1.15.0)\n",
            "Requirement already satisfied: numpy>=1.6.0 in /usr/local/lib/python3.6/dist-packages (from pytools>=2011.2->pycuda) (1.18.5)\n",
            "Requirement already satisfied: dataclasses>=0.7 in /usr/local/lib/python3.6/dist-packages (from pytools>=2011.2->pycuda) (0.7)\n",
            "Requirement already satisfied: MarkupSafe>=0.9.2 in /usr/local/lib/python3.6/dist-packages (from mako->pycuda) (1.1.1)\n",
            "Building wheels for collected packages: pycuda, pytools\n",
            "  Building wheel for pycuda (setup.py) ... \u001b[?25l\u001b[?25hdone\n",
            "  Created wheel for pycuda: filename=pycuda-2020.1-cp36-cp36m-linux_x86_64.whl size=621228 sha256=717177d2367f9ec2bc93a05f0aa6871b6c5ee9cc399e77b178a32b939b5417c8\n",
            "  Stored in directory: /root/.cache/pip/wheels/8f/78/d1/5bb826f81d9d490297a348d818ff3ee6dd6f2075b06dde6ea0\n",
            "  Building wheel for pytools (setup.py) ... \u001b[?25l\u001b[?25hdone\n",
            "  Created wheel for pytools: filename=pytools-2020.4.3-py2.py3-none-any.whl size=61374 sha256=1e2efa1b2744179d92638137fc751f7969b02a48b0a4f7e3166b291917b91ea1\n",
            "  Stored in directory: /root/.cache/pip/wheels/af/c7/81/a22edb90b0b09a880468b2253bb1df8e9f503337ee15432c64\n",
            "Successfully built pycuda pytools\n",
            "Installing collected packages: appdirs, pytools, mako, pycuda\n",
            "Successfully installed appdirs-1.4.4 mako-1.1.3 pycuda-2020.1 pytools-2020.4.3\n"
          ],
          "name": "stdout"
        }
      ]
    },
    {
      "cell_type": "markdown",
      "metadata": {
        "id": "MxFlSalbUadw"
      },
      "source": [
        "#3 Desarrollo"
      ]
    },
    {
      "cell_type": "code",
      "metadata": {
        "id": "zdd7HaXuUpuq",
        "colab": {
          "base_uri": "https://localhost:8080/"
        },
        "outputId": "b352f805-f57d-4334-dc1b-8ecfaec76842"
      },
      "source": [
        "#@title Parametros { vertical-output: true, display-mode: \"both\" }\n",
        "numeroElementos =  0#@param {type:\"number\"}\n",
        "\n",
        "try:\n",
        "  import pycuda.driver as cuda\n",
        "  import pycuda.autoinit\n",
        "  from   pycuda.compiler import SourceModule\n",
        "\n",
        "  from  datetime import datetime\n",
        "  import numpy\n",
        "\n",
        "\n",
        "\n",
        "  # CPU - Defino la memoria del vector en cpu.\n",
        "  vectorCpu = numpy.random.randn(numeroElementos)\n",
        "  vectorCpu = vectorCpu.astype(numpy.float32())\n",
        "  print(\"vector con numeros:\")\n",
        "  print(vectorCpu)\n",
        "\n",
        "  # CPU - reservo la memoria GPU.\n",
        "  vectorGpu = cuda.mem_alloc(vectorCpu.nbytes)\n",
        "\n",
        "  # GPU - Copio la memoria al GPU.\n",
        "  cuda.memcpy_htod(vectorGpu,vectorCpu)\n",
        "\n",
        "  # CPU - ingreso el numero a buscar\n",
        "  print(\"Ingrese un numero a buscar:\")\n",
        "  numeroBuscado = input()\n",
        "\n",
        "  #CPU - Defino la funcion kernel que ejecutará en GPU\n",
        "  module = SourceModule(\"\"\"\n",
        "  __global__ void buscarNumero(int n,float numeroBuscado ,float *pvector1)\n",
        "  {\n",
        "      int idx = threadIdx.x + blockIdx.x*blockDim.x;\n",
        "      \n",
        "      \n",
        "\n",
        "      if(idx<n)\n",
        "      {\n",
        "        if(pvector1[idx] == numeroBuscado)\n",
        "        {\n",
        "            pvector1[0] = 1;\n",
        "        }\n",
        "      }\n",
        "  }\n",
        "\n",
        "  \"\"\")\n",
        "\n",
        "  kernel = module.get_function(\"buscarNumero\")\n",
        "\n",
        "  dim_hilo = 256\n",
        "  dim_bloque = numpy.int( (numeroElementos+dim_hilo-1) / dim_hilo )\n",
        "  print( \"Thread x: \", dim_hilo, \", Bloque x:\", dim_bloque )\n",
        "\n",
        "  kernel( numpy.int32(numeroElementos),numpy.float32(numeroBuscado), vectorGpu, block=( dim_hilo, 1, 1 ),grid=(dim_bloque, 1,1) )\n",
        "\n",
        "  cuda.memcpy_dtoh(vectorCpu,vectorGpu)\n",
        "\n",
        "  print(\"vector con numeros final:\")\n",
        "  print(vectorCpu)\n",
        "\n",
        "  if vectorCpu[0]== 1:\n",
        "    print(\"El numero ha sido encontrado\")\n",
        "  else:\n",
        "      print(\"El numero no ha sido encontrado\")\n",
        "\n",
        "except ModuleNotFoundError :\n",
        "      print(\"No se compilo el código del armado del ambiente\")\n",
        "      print(\"Compile el armado del ambiente y vuelva a intentarlo\")\n",
        "except ValueError :\n",
        "  print(\"se ingreso un número de elementos menor a 0\")\n",
        "  print(\"ingrese un número de elementos mayor a 0\")\n",
        "except pycuda.driver.LogicError:\n",
        "  print(\"Ha ingresado un número de elementos igual a 0 y CUDA no puede reservar un vector de tamaño 0\")\n",
        "  print(\"ingrese un número de elementos mayor a 0\")\n",
        "      "
      ],
      "execution_count": 4,
      "outputs": [
        {
          "output_type": "stream",
          "text": [
            "vector con numeros:\n",
            "[]\n",
            "Ha ingresado un número de elementos igual a 0 y CUDA no puede reservar un vector de tamaño 0\n",
            "ingrese un número de elementos mayor a 0\n"
          ],
          "name": "stdout"
        }
      ]
    },
    {
      "cell_type": "markdown",
      "metadata": {
        "id": "S1rRWsLpU0pW"
      },
      "source": [
        "#4 Tabla de pasos de ejecución del programa"
      ]
    },
    {
      "cell_type": "markdown",
      "metadata": {
        "id": "8SvfDC3YU6cO"
      },
      "source": [
        "\n",
        " Procesador | Funciòn | Detalle\n",
        "------------|---------|----------\n",
        "CPU      |  @param                | Lectura del tamaño del vector desde Colab.\n",
        "CPU      |  import                | Importa los módulos para funcionar.\n",
        "CPU      |  datetime.now()        | Toma el tiempo actual.\n",
        "CPU      |  numpy.random.randn( numeroElementos ) | Inicializa el vectorCpu\n",
        "CPU      |  print()               | informo el vector de números en el que voy a buscar \n",
        "**GPU**  |  cuda.mem_alloc()      | Reserva la memoria en GPU.\n",
        "**GPU**  |  cuda.memcpy_htod()    | Copia las memorias desde el CPU al GPU.\n",
        "CPU      |  print()               | informo que se debe ingresar un numero a buscar\n",
        "CPU      |  input()               | ingreso el numeroBuscado por teclado\n",
        "CPU      |  SourceModule()        | Define el código del kernel donde se realiza la busqueda de un numero, si se encuentra, en la  posicion cero copio un 1 para usarlo como bandera\n",
        "CPU      |  module.get_function() | Genera la función del kernel GPU\n",
        "CPU      |  dim_hilo/dim_bloque   | Calcula las dimensiones.\n",
        "**GPU**  |  kernel()              | Ejecuta el kernel en GPU\n",
        "CPU      |  cuda.memcpy_dtoh( )   | Copia el resultado desde GPU memoria A a CPU memoria R.\n",
        "CPU      |  if                    | si la posicion 0 del vectorCpu es igual a 1 significa que lo encontre, de lo contrario no lo encontre\n",
        "CPU      |  print()               | Informo los resultados.\n"
      ]
    },
    {
      "cell_type": "markdown",
      "metadata": {
        "id": "vuXS-ouwU-Tc"
      },
      "source": [
        "#5 Conclusiones"
      ]
    },
    {
      "cell_type": "markdown",
      "metadata": {
        "id": "C8Rt9o2HVC19"
      },
      "source": [
        ""
      ]
    },
    {
      "cell_type": "markdown",
      "metadata": {
        "id": "JX-BwESeVDWi"
      },
      "source": [
        "#6 Bibliografia"
      ]
    },
    {
      "cell_type": "markdown",
      "metadata": {
        "id": "knQ8wHCNVEPL"
      },
      "source": [
        "[1] MARKDOWN SYNTAX Colab:[PDF](https://github.com/wvaliente/SOA_HPC/blob/main/Documentos/markdown-cheatsheet-online.pdf)\n",
        "\n",
        "[2] Introducción a Python: [pagina colab](https://github.com/wvaliente/SOA_HPC/blob/main/Documentos/Python_Basico.ipynb)"
      ]
    }
  ]
}