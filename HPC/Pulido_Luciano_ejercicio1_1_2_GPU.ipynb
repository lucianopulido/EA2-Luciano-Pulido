{
  "nbformat": 4,
  "nbformat_minor": 0,
  "metadata": {
    "colab": {
      "name": "Pulido_Luciano_ejercicio1_1_2_GPU.ipynb",
      "provenance": [],
      "collapsed_sections": []
    },
    "kernelspec": {
      "name": "python3",
      "display_name": "Python 3"
    },
    "accelerator": "GPU"
  },
  "cells": [
    {
      "cell_type": "markdown",
      "metadata": {
        "id": "3A6UFf0pUDoI"
      },
      "source": [
        "#1 Introducción"
      ]
    },
    {
      "cell_type": "markdown",
      "metadata": {
        "id": "koiiq2-PUJV8"
      },
      "source": [
        "El siguiente cuaderno realiza la búsqueda secuencial [3] utilizando el GPGPU de un número ingresado por teclado en un vector de números flotantes y se informa si se lo encontro o no. El algoritmo de este cuadernos se basa en, valga la redundancia, el ya conocido algoritmo de búsqueda secuencial o lineal [3]\n",
        "\n",
        "El objetivo es comparar los tiempos de ejecución de ambas versiones del algoritmo de busqueda, utilizando el lenguaje python [2] en la plataforma colab [1] y CUDA [4,5]."
      ]
    },
    {
      "cell_type": "markdown",
      "metadata": {
        "id": "svmzrQGKUKjk"
      },
      "source": [
        "#2 Armado del ambiente"
      ]
    },
    {
      "cell_type": "markdown",
      "metadata": {
        "id": "BlxGq6UwUMan"
      },
      "source": [
        "Instala en el cuaderno el módulo CUDA de Python."
      ]
    },
    {
      "cell_type": "code",
      "metadata": {
        "id": "jp9uejrLT3qA",
        "colab": {
          "base_uri": "https://localhost:8080/"
        },
        "outputId": "4b8927f3-f035-47c9-f020-89efebee3712"
      },
      "source": [
        "!pip install pycuda"
      ],
      "execution_count": null,
      "outputs": [
        {
          "output_type": "stream",
          "text": [
            "Collecting pycuda\n",
            "\u001b[?25l  Downloading https://files.pythonhosted.org/packages/46/61/47d3235a4c13eec5a5f03594ddb268f4858734e02980afbcd806e6242fa5/pycuda-2020.1.tar.gz (1.6MB)\n",
            "\u001b[K     |████████████████████████████████| 1.6MB 10.2MB/s \n",
            "\u001b[?25hCollecting pytools>=2011.2\n",
            "\u001b[?25l  Downloading https://files.pythonhosted.org/packages/b7/30/c9362a282ef89106768cba9d884f4b2e4f5dc6881d0c19b478d2a710b82b/pytools-2020.4.3.tar.gz (62kB)\n",
            "\u001b[K     |████████████████████████████████| 71kB 11.0MB/s \n",
            "\u001b[?25hRequirement already satisfied: decorator>=3.2.0 in /usr/local/lib/python3.6/dist-packages (from pycuda) (4.4.2)\n",
            "Collecting appdirs>=1.4.0\n",
            "  Downloading https://files.pythonhosted.org/packages/3b/00/2344469e2084fb287c2e0b57b72910309874c3245463acd6cf5e3db69324/appdirs-1.4.4-py2.py3-none-any.whl\n",
            "Collecting mako\n",
            "\u001b[?25l  Downloading https://files.pythonhosted.org/packages/a6/37/0e706200d22172eb8fa17d68a7ae22dec7631a0a92266634fb518a88a5b2/Mako-1.1.3-py2.py3-none-any.whl (75kB)\n",
            "\u001b[K     |████████████████████████████████| 81kB 12.8MB/s \n",
            "\u001b[?25hRequirement already satisfied: six>=1.8.0 in /usr/local/lib/python3.6/dist-packages (from pytools>=2011.2->pycuda) (1.15.0)\n",
            "Requirement already satisfied: numpy>=1.6.0 in /usr/local/lib/python3.6/dist-packages (from pytools>=2011.2->pycuda) (1.18.5)\n",
            "Requirement already satisfied: dataclasses>=0.7 in /usr/local/lib/python3.6/dist-packages (from pytools>=2011.2->pycuda) (0.7)\n",
            "Requirement already satisfied: MarkupSafe>=0.9.2 in /usr/local/lib/python3.6/dist-packages (from mako->pycuda) (1.1.1)\n",
            "Building wheels for collected packages: pycuda, pytools\n",
            "  Building wheel for pycuda (setup.py) ... \u001b[?25l\u001b[?25hdone\n",
            "  Created wheel for pycuda: filename=pycuda-2020.1-cp36-cp36m-linux_x86_64.whl size=621228 sha256=4d0f4bb0ec2ed9e432f398c48df718fad3d56d42906ebd5c9504f806e05f8306\n",
            "  Stored in directory: /root/.cache/pip/wheels/8f/78/d1/5bb826f81d9d490297a348d818ff3ee6dd6f2075b06dde6ea0\n",
            "  Building wheel for pytools (setup.py) ... \u001b[?25l\u001b[?25hdone\n",
            "  Created wheel for pytools: filename=pytools-2020.4.3-py2.py3-none-any.whl size=61374 sha256=519d078206380172d6f2d4af96bf2e63e56959c2fb46acf7de14eeec19ff9abb\n",
            "  Stored in directory: /root/.cache/pip/wheels/af/c7/81/a22edb90b0b09a880468b2253bb1df8e9f503337ee15432c64\n",
            "Successfully built pycuda pytools\n",
            "Installing collected packages: appdirs, pytools, mako, pycuda\n",
            "Successfully installed appdirs-1.4.4 mako-1.1.3 pycuda-2020.1 pytools-2020.4.3\n"
          ],
          "name": "stdout"
        }
      ]
    },
    {
      "cell_type": "markdown",
      "metadata": {
        "id": "MxFlSalbUadw"
      },
      "source": [
        "#3 Desarrollo"
      ]
    },
    {
      "cell_type": "code",
      "metadata": {
        "id": "zdd7HaXuUpuq",
        "colab": {
          "base_uri": "https://localhost:8080/"
        },
        "outputId": "c5422e59-6f7c-4048-ed7d-8a0d3c38cbf6"
      },
      "source": [
        "#@title Parametros { vertical-output: true, display-mode: \"both\" }\n",
        "numeroElementos =  6#@param {type:\"number\"}\n",
        "\n",
        "try:\n",
        "  from datetime import datetime\n",
        "  import pycuda.driver as cuda\n",
        "  import pycuda.autoinit\n",
        "  from   pycuda.compiler import SourceModule\n",
        "\n",
        "  from  datetime import datetime\n",
        "  import numpy\n",
        "\n",
        "  tiempoTotal = datetime.now()\n",
        "\n",
        "  tiempo_en_ms = lambda dt:(dt.days * 24 * 60 * 60 + dt.seconds) * 1000 + dt.microseconds / 1000.0\n",
        "\n",
        "  # CPU - Defino la memoria del vector en cpu.\n",
        "  vectorCpu = numpy.random.randn(numeroElementos)\n",
        "  vectorCpu = vectorCpu.astype(numpy.float32())\n",
        "  print(\"vector con numeros:\")\n",
        "  print(vectorCpu)\n",
        "\n",
        "  # CPU - reservo la memoria GPU.\n",
        "  vectorGpu = cuda.mem_alloc(vectorCpu.nbytes)\n",
        "\n",
        "  # GPU - Copio la memoria al GPU.\n",
        "  cuda.memcpy_htod(vectorGpu,vectorCpu)\n",
        "\n",
        "  # CPU - ingreso el numero a buscar\n",
        "  print(\"Ingrese un numero a buscar:\")\n",
        "  numeroBuscado = input()\n",
        "\n",
        "  #CPU - Defino la funcion kernel que ejecutará en GPU\n",
        "  module = SourceModule(\"\"\"\n",
        "  __global__ void buscarNumero(int n,float numeroBuscado ,float *pvector1)\n",
        "  {\n",
        "      int idx = threadIdx.x + blockIdx.x*blockDim.x;\n",
        "      \n",
        "      \n",
        "\n",
        "      if(idx<n)\n",
        "      {\n",
        "        if(pvector1[idx] == numeroBuscado)\n",
        "        {\n",
        "            pvector1[0] = 1;\n",
        "        }\n",
        "      }\n",
        "  }\n",
        "\n",
        "  \"\"\")\n",
        "\n",
        "  kernel = module.get_function(\"buscarNumero\")\n",
        "  tiempo_gpu = datetime.now()\n",
        "\n",
        "  dim_hilo = 256\n",
        "  dim_bloque = numpy.int( (numeroElementos+dim_hilo-1) / dim_hilo )\n",
        "  print( \"Thread x: \", dim_hilo, \", Bloque x:\", dim_bloque )\n",
        "\n",
        "  kernel( numpy.int32(numeroElementos),numpy.float32(numeroBuscado), vectorGpu, block=( dim_hilo, 1, 1 ),grid=(dim_bloque, 1,1) )\n",
        "\n",
        "  tiempo_gpu = datetime.now() - tiempo_gpu\n",
        "  cuda.memcpy_dtoh(vectorCpu,vectorGpu)\n",
        "\n",
        "  print(\"vector con numeros final:\")\n",
        "  print(vectorCpu)\n",
        "  \n",
        "  # CPU - Informo el resultado.\n",
        "  if vectorCpu[0]== 1:\n",
        "    print(\"El numero ha sido encontrado\")\n",
        "  else:\n",
        "      print(\"El numero no ha sido encontrado\")\n",
        "\n",
        "\n",
        "  tiempoTotal = datetime.now() - tiempoTotal\n",
        "  print(\"\")\n",
        "  print(\"Tiempo GPU: \",tiempo_en_ms(tiempo_gpu),\"[ms]\")\n",
        "  print(\"Tiempo CPU: \",tiempo_en_ms(tiempoTotal),\"[ms]\")\n",
        "\n",
        "\n",
        "except ModuleNotFoundError :\n",
        "      print(\"No se compilo el código del armado del ambiente\")\n",
        "      print(\"Compile el armado del ambiente y vuelva a intentarlo\")\n",
        "except ValueError :\n",
        "  print(\"se ingreso un número de elementos menor a 0\")\n",
        "  print(\"ingrese un número de elementos mayor a 0\")\n",
        "except pycuda.driver.LogicError:\n",
        "  print(\"Ha ingresado un número de elementos igual a 0 y CUDA no puede reservar un vector de tamaño 0\")\n",
        "  print(\"ingrese un número de elementos mayor a 0\")\n",
        "      "
      ],
      "execution_count": null,
      "outputs": [
        {
          "output_type": "stream",
          "text": [
            "vector con numeros:\n",
            "[ 0.739824    0.21022892 -0.6425146   0.06134877 -1.1046423  -2.047388  ]\n",
            "Ingrese un numero a buscar:\n",
            "0.739824\n",
            "Thread x:  256 , Bloque x: 1\n",
            "vector con numeros final:\n",
            "[ 1.          0.21022892 -0.6425146   0.06134877 -1.1046423  -2.047388  ]\n",
            "El numero ha sido encontrado\n",
            "\n",
            "Tiempo GPU:  0.524 [ms]\n",
            "Tiempo CPU:  4358.174 [ms]\n"
          ],
          "name": "stdout"
        }
      ]
    },
    {
      "cell_type": "markdown",
      "metadata": {
        "id": "S1rRWsLpU0pW"
      },
      "source": [
        "#4 Tabla de pasos de ejecución del programa"
      ]
    },
    {
      "cell_type": "markdown",
      "metadata": {
        "id": "8SvfDC3YU6cO"
      },
      "source": [
        "\n",
        " Procesador | Funciòn | Detalle\n",
        "------------|---------|----------\n",
        "CPU      |  @param                | Lectura del tamaño del vector desde Colab.\n",
        "CPU      |  import                | Importa los módulos para funcionar.\n",
        "CPU      |  datetime.now()        | Toma el tiempo actual.\n",
        "CPU      |  numpy.random.randn( numeroElementos ) | Inicializa el vectorCpu\n",
        "CPU      |  print()               | informo el vector de números en el que voy a buscar \n",
        "**GPU**  |  cuda.mem_alloc()      | Reserva la memoria en GPU.\n",
        "**GPU**  |  cuda.memcpy_htod()    | Copia las memorias desde el CPU al GPU.\n",
        "CPU      |  print()               | informo que se debe ingresar un numero a buscar\n",
        "CPU      |  input()               | ingreso el numeroBuscado por teclado\n",
        "CPU      |  SourceModule()        | Define el código del kernel donde se realiza la busqueda de un numero, si se encuentra, en la  posicion cero copio un 1 para usarlo como bandera\n",
        "CPU      |  module.get_function() | Genera la función del kernel GPU\n",
        "CPU      |  dim_hilo/dim_bloque   | Calcula las dimensiones.\n",
        "**GPU**  |  kernel()              | Ejecuta el kernel en GPU\n",
        "CPU      |  cuda.memcpy_dtoh( )   | Copia el resultado desde GPU memoria A a CPU memoria R.\n",
        "CPU      |  if                    | si la posicion 0 del vectorCpu es igual a 1 significa que lo encontre, de lo contrario no lo encontre\n",
        "CPU      |  print()               | Informo los resultados.\n"
      ]
    },
    {
      "cell_type": "markdown",
      "metadata": {
        "id": "vuXS-ouwU-Tc"
      },
      "source": [
        "#5 Conclusiones"
      ]
    },
    {
      "cell_type": "markdown",
      "metadata": {
        "id": "C8Rt9o2HVC19"
      },
      "source": [
        "En este ejercicio que se basa en el algortimo de una búsqueda secuencial utilizando paralelismo (CPU-GPU), donde se busca un número ingresado por teclado dentro de un vector de números flotantes y se informa si se lo encontro o no, los tiempos de ejecución resultaron más eficientes utilizando solamente la CPU  de manera secuencial porque al ser un algoritmo donde se va comparando todo el tiempo el numero buscado con cada posición del vector tanto en la version secuencial(CPU) como en la versión con paralelismo (CPU-GPU), el costo termina siendo mayor en la version que se utiliza paralelismo con la GPU  por las capas intermedias por las que deben pasar los datos desde que se envian desde la CPU a la GPU hasta que vuelven de la GPU a la CPU,le suman un tiempo mayor al propio dado por la busqueda.\n",
        "\n",
        "Para poder sacar estas conclusiones tome 20 muestras del algoritmo en la version secuencial (CPU) y la versión con paralelismo (CPU-GPU) con un número de elementos igual a 100 y obtuve los siguientes promedios:\n",
        "\n",
        "Promedio de tiempo total ejercicio 1 secuencial: 3.239,6 ms\n",
        "\n",
        "Promedio de tiempo de Bucle ejercicio 1  secuencial: 0,2534 ms \n",
        "\n",
        "Promedio de tiempo CPU ejercicio 1 paralelismo: 4.665,4 ms\n",
        "\n",
        "Promedio de tiempo GPU ejercicio 1 paralelismo: 506,9 ms\n",
        "\n",
        "Como vemos en los resultados obtenidos, el tiempo total(CPU) en la versión secuencial es menor al tiempo equivalente que es el tiempo de CPU, en la versión con paralelismo.\n",
        "\n",
        "Por este motivo puedo decir que en los ejercicios donde exista la misma cantidad de comparaciones de datos tanto en la versíon secuencial como en la de paralelismo el tiempo va a ser mayor en la de paralelismo por lo antes mensionado sobre las capas por las que pasan los datos hasta llegar a la GPU y y volver a la CPU.\n",
        "\n",
        "Para continuar este ejercicio tanto en la versión secuencial como en la versión con paralelismo se podría hacer que una vez que se encuentre el número buscado, en el caso de la versión secuencial, salga del bucle inmediatamente y en la versión con paralelismo los hilos dejen de comparar.\n"
      ]
    },
    {
      "cell_type": "markdown",
      "metadata": {
        "id": "JX-BwESeVDWi"
      },
      "source": [
        "#6 Bibliografia"
      ]
    },
    {
      "cell_type": "markdown",
      "metadata": {
        "id": "knQ8wHCNVEPL"
      },
      "source": [
        "[1] MARKDOWN SYNTAX Colab:[PDF](https://github.com/wvaliente/SOA_HPC/blob/main/Documentos/markdown-cheatsheet-online.pdf)\n",
        "\n",
        "[2] Introducción a Python: [pagina colab](https://github.com/wvaliente/SOA_HPC/blob/main/Documentos/Python_Basico.ipynb)\n",
        "\n",
        "[3] Función de busqueda secuencial: [referencia](https://es.wikipedia.org/wiki/Algoritmo_de_b%C3%BAsqueda)\n",
        "\n",
        "[4] Documentación PyCUDA: [WEB](https://documen.tician.de/pycuda/index.html)\n",
        "\n",
        "[5] Repositorio de PyCUDA: [WEB](https://pypi.org/project/pycuda/)"
      ]
    }
  ]
}